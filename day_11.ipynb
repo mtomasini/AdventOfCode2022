{
 "cells": [
  {
   "cell_type": "markdown",
   "metadata": {},
   "source": [
    "# Day 11\n",
    "Today we got a long list of instructions to follow. A bunch of monkeys is playing Monkey in the Middle with stuff from our backpack, and they have a very complex algorithm to decide which monkey gets the stuff when they throw it."
   ]
  },
  {
   "cell_type": "code",
   "execution_count": 49,
   "metadata": {},
   "outputs": [],
   "source": [
    "import math"
   ]
  },
  {
   "cell_type": "code",
   "execution_count": 144,
   "metadata": {},
   "outputs": [],
   "source": [
    "starting_items = []\n",
    "operation = []\n",
    "divisible_by = []\n",
    "if_true = []\n",
    "if_false = []\n",
    "with open('./inputs/day11.txt') as file:\n",
    "    for monkey in range(0, 8):\n",
    "        what_monkey = file.readline()[:-1]\n",
    "        starting_items.append(file.readline().replace(\",\", \"\").split()[2:])\n",
    "        operation.append(file.readline().split()[4:])\n",
    "        divisible_by.append(file.readline().split()[-1])\n",
    "        if_true.append(file.readline().split()[-1])\n",
    "        if_false.append(file.readline().split()[-1])\n",
    "        file.readline()"
   ]
  },
  {
   "cell_type": "code",
   "execution_count": 139,
   "metadata": {},
   "outputs": [],
   "source": [
    "def new(operation, coefficient, old):\n",
    "    if coefficient == 'old':\n",
    "        return int(old) * int(old)\n",
    "    elif operation == '+':\n",
    "        return int(old) + int(coefficient)\n",
    "    elif operation == '*':\n",
    "        return int(old) * int(coefficient)\n",
    "\n",
    "def to_which_monkey(initial_worry_level, type_of_operation, operation_coefficient, \n",
    "                    division_coefficient, where_if_true, where_if_false):\n",
    "    worry_level = new(type_of_operation, operation_coefficient, initial_worry_level)\n",
    "    worry_level = int(worry_level / 3) # int already takes lower\n",
    "    receiving_monkey = where_if_true if int(worry_level) % int(division_coefficient) == 0 else where_if_false\n",
    "    return worry_level, int(receiving_monkey)"
   ]
  },
  {
   "cell_type": "code",
   "execution_count": 145,
   "metadata": {},
   "outputs": [],
   "source": [
    "inspections = [0]*8\n",
    "for round in range(1, 21):\n",
    "    for monkey in range(0, 8):\n",
    "        items_to_inspect = starting_items[monkey].copy()\n",
    "        for item in items_to_inspect:\n",
    "            inspections[monkey] += 1\n",
    "            new_worry, new_monkey = to_which_monkey(int(item), operation[monkey][0], operation[monkey][1], \n",
    "                                         int(divisible_by[monkey]), int(if_true[monkey]), int(if_false[monkey]))\n",
    "            starting_items[monkey].pop(0)\n",
    "            starting_items[new_monkey].append(new_worry)"
   ]
  },
  {
   "cell_type": "code",
   "execution_count": 120,
   "metadata": {},
   "outputs": [
    {
     "name": "stdout",
     "output_type": "stream",
     "text": [
      "Monkey business level was 31832.\n"
     ]
    }
   ],
   "source": [
    "print(f'Monkey business level was {692*46}.')"
   ]
  }
 ],
 "metadata": {
  "kernelspec": {
   "display_name": "Python 3.10.6 64-bit",
   "language": "python",
   "name": "python3"
  },
  "language_info": {
   "codemirror_mode": {
    "name": "ipython",
    "version": 3
   },
   "file_extension": ".py",
   "mimetype": "text/x-python",
   "name": "python",
   "nbconvert_exporter": "python",
   "pygments_lexer": "ipython3",
   "version": "3.10.6"
  },
  "orig_nbformat": 4,
  "vscode": {
   "interpreter": {
    "hash": "916dbcbb3f70747c44a77c7bcd40155683ae19c65e1c03b4aa3499c5328201f1"
   }
  }
 },
 "nbformat": 4,
 "nbformat_minor": 2
}
