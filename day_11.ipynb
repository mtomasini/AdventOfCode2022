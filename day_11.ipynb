{
 "cells": [
  {
   "cell_type": "markdown",
   "metadata": {},
   "source": [
    "# Day 11\n",
    "Today we got a long list of instructions to follow. A bunch of monkeys is playing Monkey in the Middle with stuff from our backpack, and they have a very complex algorithm to decide which monkey gets the stuff when they throw it."
   ]
  },
  {
   "cell_type": "code",
   "execution_count": 372,
   "metadata": {},
   "outputs": [],
   "source": [
    "starting_items = []\n",
    "operation = []\n",
    "divisible_by = []\n",
    "if_true = []\n",
    "if_false = []\n",
    "with open('./inputs/day11.txt') as file:\n",
    "    for monkey in range(0, 8):\n",
    "        what_monkey = file.readline()[:-1]\n",
    "        starting_items.append(file.readline().replace(\",\", \"\").split()[2:])\n",
    "        operation.append(file.readline().split()[4:])\n",
    "        divisible_by.append(file.readline().split()[-1])\n",
    "        if_true.append(file.readline().split()[-1])\n",
    "        if_false.append(file.readline().split()[-1])\n",
    "        file.readline()"
   ]
  },
  {
   "cell_type": "code",
   "execution_count": 351,
   "metadata": {},
   "outputs": [],
   "source": [
    "def new(operation, coefficient, old):\n",
    "    if coefficient == 'old':\n",
    "        return int(old) * int(old)\n",
    "    elif operation == '+':\n",
    "        return int(old) + int(coefficient)\n",
    "    elif operation == '*':\n",
    "        return int(old) * int(coefficient)\n",
    "\n",
    "def to_which_monkey(initial_worry_level, type_of_operation, operation_coefficient, \n",
    "                    division_coefficient, where_if_true, where_if_false):\n",
    "    worry_level = new(type_of_operation, operation_coefficient, initial_worry_level)\n",
    "    worry_level = int(worry_level / 3) # int already takes lower\n",
    "    receiving_monkey = where_if_true if int(worry_level) % int(division_coefficient) == 0 else where_if_false\n",
    "    return worry_level, int(receiving_monkey)"
   ]
  },
  {
   "cell_type": "code",
   "execution_count": 352,
   "metadata": {},
   "outputs": [],
   "source": [
    "inspections = [0]*8\n",
    "for round in range(1, 21):\n",
    "    for monkey in range(0, 8):\n",
    "        items_to_inspect = starting_items[monkey].copy()\n",
    "        for item in items_to_inspect:\n",
    "            inspections[monkey] += 1\n",
    "            new_worry, new_monkey = to_which_monkey(int(item), operation[monkey][0], operation[monkey][1], \n",
    "                                         int(divisible_by[monkey]), int(if_true[monkey]), int(if_false[monkey]))\n",
    "            starting_items[monkey].pop(0)\n",
    "            starting_items[new_monkey].append(new_worry)"
   ]
  },
  {
   "cell_type": "code",
   "execution_count": 164,
   "metadata": {},
   "outputs": [
    {
     "name": "stdout",
     "output_type": "stream",
     "text": [
      "Monkey business level was 112221.\n"
     ]
    }
   ],
   "source": [
    "two_max = sorted(inspections)[-2:]\n",
    "product = two_max[0]*two_max[1]\n",
    "print(f'Monkey business level was {product}.')"
   ]
  },
  {
   "cell_type": "markdown",
   "metadata": {},
   "source": [
    "This is the right number!"
   ]
  },
  {
   "cell_type": "markdown",
   "metadata": {},
   "source": [
    "## Part 2\n",
    "Two things have changed: \n",
    "1) Your stress does not decrease after the inspection by the monkey.\n",
    "2) We want to know what happens after 10000 rounds!\n",
    "\n",
    "Of course, the base algorithm does not work now because the complexity of the problem is exponential. On a first test, it takes ~1'25\" to get to 223 rounds, so this will not cut it as the time can only slow down. The problem is that the worry level is way too high to make the calculation fast. "
   ]
  },
  {
   "cell_type": "code",
   "execution_count": 368,
   "metadata": {},
   "outputs": [],
   "source": [
    "def is_divisible(number, denominator):\n",
    "    match denominator:\n",
    "        case '2':\n",
    "            last_digit = int(number[-1])\n",
    "            return last_digit % 2 == 0\n",
    "        case '3':\n",
    "            sum_of_integers = sum(list(map(int, list(number))))\n",
    "            return sum_of_integers % 3 == 0\n",
    "        case '5':\n",
    "            if number[-1] == '0' or number[-1] == '5':\n",
    "                return True\n",
    "            else:\n",
    "                return False\n",
    "        case '7':\n",
    "            n = int(number)\n",
    "            while n // 100:\n",
    "                last_digit = n % 10\n",
    "                n //= 10\n",
    "                n += last_digit * 2\n",
    "            return n % 7 == 0\n",
    "        case '11':\n",
    "            odd_sum = 0\n",
    "            even_sum = 0\n",
    "            for count, digit in enumerate(number):\n",
    "                if count % 2 == 1:\n",
    "                    odd_sum += int(digit)\n",
    "                else: \n",
    "                    even_sum += int(digit)\n",
    "            difference = abs(odd_sum - even_sum)\n",
    "            return difference % 11 == 0\n",
    "        case '13':\n",
    "            operations = len(number) // 3\n",
    "            rest = len(number) % 3\n",
    "            track = int(number[-3:])\n",
    "            for i in range(1, operations):\n",
    "                track += (-1)**i * int(number[-(i+1)*3:-i*3])\n",
    "            if rest != 0:\n",
    "                track += (-1)**(i+1) * int(number[(-(i+1)*3 - rest):-(i+1)*3])\n",
    "            return track % 13 == 0\n",
    "        case '17':\n",
    "            n = int(number)\n",
    "            while n // 100:\n",
    "                last_digit = n % 10\n",
    "                n //= 10\n",
    "                n -= last_digit * 5\n",
    "                return n % 17 == 0\n",
    "        case '19':\n",
    "            n = int(number)\n",
    "            while n // 100:\n",
    "                last_digit = n % 10\n",
    "                n //= 10\n",
    "                n += last_digit * 2\n",
    "                return n % 19 == 0\n",
    "         \n",
    "\n",
    "#def string_multiplication(multiplier_1, multiplier_2):\n",
    "    "
   ]
  },
  {
   "cell_type": "code",
   "execution_count": 370,
   "metadata": {},
   "outputs": [],
   "source": [
    "def stressful_to_which_monkey(initial_worry_level, type_of_operation, operation_coefficient, \n",
    "                              division_coefficient, where_if_true, where_if_false):\n",
    "    worry_level = new(type_of_operation, operation_coefficient, initial_worry_level)\n",
    "    receiving_monkey = where_if_true if is_divisible(worry_level, division_coefficient) else where_if_false\n",
    "    return str(worry_level), int(receiving_monkey)"
   ]
  },
  {
   "cell_type": "code",
   "execution_count": 373,
   "metadata": {},
   "outputs": [],
   "source": [
    "inspections = [0]*8\n",
    "for round in range(0, 10000):\n",
    "    for monkey in range(0, 8):\n",
    "        items_to_inspect = starting_items[monkey].copy()\n",
    "        for item in items_to_inspect:\n",
    "            inspections[monkey] += 1\n",
    "            new_worry, new_monkey = stressful_to_which_monkey(int(item), operation[monkey][0], operation[monkey][1], \n",
    "                                         int(divisible_by[monkey]), int(if_true[monkey]), int(if_false[monkey]))\n",
    "            starting_items[monkey].pop(0)\n",
    "            starting_items[new_monkey].append(str(new_worry))"
   ]
  },
  {
   "cell_type": "code",
   "execution_count": 374,
   "metadata": {},
   "outputs": [
    {
     "name": "stdout",
     "output_type": "stream",
     "text": [
      "Monkey business level was 32397660042.\n"
     ]
    }
   ],
   "source": [
    "two_max = sorted(inspections)[-2:]\n",
    "product = two_max[0]*two_max[1]\n",
    "print(f'Monkey business level was {product}.')"
   ]
  },
  {
   "cell_type": "code",
   "execution_count": 375,
   "metadata": {},
   "outputs": [
    {
     "data": {
      "text/plain": [
       "False"
      ]
     },
     "execution_count": 375,
     "metadata": {},
     "output_type": "execute_result"
    }
   ],
   "source": [
    "product < 32397660042"
   ]
  },
  {
   "cell_type": "markdown",
   "metadata": {},
   "source": [
    "old attempt = 32397660042"
   ]
  },
  {
   "cell_type": "markdown",
   "metadata": {},
   "source": []
  }
 ],
 "metadata": {
  "kernelspec": {
   "display_name": "Python 3.10.6 64-bit",
   "language": "python",
   "name": "python3"
  },
  "language_info": {
   "codemirror_mode": {
    "name": "ipython",
    "version": 3
   },
   "file_extension": ".py",
   "mimetype": "text/x-python",
   "name": "python",
   "nbconvert_exporter": "python",
   "pygments_lexer": "ipython3",
   "version": "3.10.6"
  },
  "orig_nbformat": 4,
  "vscode": {
   "interpreter": {
    "hash": "916dbcbb3f70747c44a77c7bcd40155683ae19c65e1c03b4aa3499c5328201f1"
   }
  }
 },
 "nbformat": 4,
 "nbformat_minor": 2
}
