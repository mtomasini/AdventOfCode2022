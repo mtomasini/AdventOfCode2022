{
 "cells": [
  {
   "cell_type": "markdown",
   "metadata": {},
   "source": [
    "# Day 10\n",
    "Today seems like a relatively easy problem. We need to sum a bunch of things and functions. Basically, we have two variables, the register `X` and the clock circuit. The register is modified by a function `addx V` that changes `X` by `V`. The clock circuit counts the time of the program, `addx V` taking two \"cycles\" to run. In addition there is a function `noop` that takes 1 cycle to run and does nothing."
   ]
  },
  {
   "cell_type": "code",
   "execution_count": 1,
   "metadata": {},
   "outputs": [],
   "source": [
    "program = []\n",
    "with open('./inputs/day10.txt') as file:\n",
    "    for line in file.readlines():\n",
    "        program.append(line.split())\n"
   ]
  },
  {
   "cell_type": "code",
   "execution_count": 16,
   "metadata": {},
   "outputs": [],
   "source": [
    "# output is a list with [register, cycle] \n",
    "register_counter = 1\n",
    "cycle_counter = 1\n",
    "register = []\n",
    "cycle = [cycle_counter]\n",
    "for command in program:\n",
    "    if command[0] == 'noop':\n",
    "        cycle_counter += 1\n",
    "        register.append(register_counter)\n",
    "        cycle.append(cycle_counter)\n",
    "    elif command[0] == 'addx':\n",
    "        # first cycle:\n",
    "        cycle_counter += 1\n",
    "        register.append(register_counter)\n",
    "        cycle.append(cycle_counter) \n",
    "        # second cycle\n",
    "        cycle_counter += 1\n",
    "        register.append(register_counter)\n",
    "        cycle.append(cycle_counter)\n",
    "        register_counter += int(command[1]) # the register is updated AT THE END of the second cycle "
   ]
  },
  {
   "cell_type": "code",
   "execution_count": 17,
   "metadata": {},
   "outputs": [
    {
     "data": {
      "text/plain": [
       "([1, 1, 2, 2, 2, 7, 7, 6, 6, 11], [1, 2, 3, 4, 5, 6, 7, 8, 9, 10])"
      ]
     },
     "execution_count": 17,
     "metadata": {},
     "output_type": "execute_result"
    }
   ],
   "source": [
    "register[:10], cycle[:10]"
   ]
  },
  {
   "cell_type": "markdown",
   "metadata": {},
   "source": [
    "Good for us, the cycle register is simple units, so:"
   ]
  },
  {
   "cell_type": "code",
   "execution_count": null,
   "metadata": {},
   "outputs": [],
   "source": [
    "signal = 0\n",
    "for x in [20, 60, ]"
   ]
  }
 ],
 "metadata": {
  "kernelspec": {
   "display_name": "Python 3.10.6 64-bit",
   "language": "python",
   "name": "python3"
  },
  "language_info": {
   "codemirror_mode": {
    "name": "ipython",
    "version": 3
   },
   "file_extension": ".py",
   "mimetype": "text/x-python",
   "name": "python",
   "nbconvert_exporter": "python",
   "pygments_lexer": "ipython3",
   "version": "3.10.6"
  },
  "orig_nbformat": 4,
  "vscode": {
   "interpreter": {
    "hash": "916dbcbb3f70747c44a77c7bcd40155683ae19c65e1c03b4aa3499c5328201f1"
   }
  }
 },
 "nbformat": 4,
 "nbformat_minor": 2
}
