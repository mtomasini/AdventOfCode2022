{
 "cells": [
  {
   "cell_type": "markdown",
   "metadata": {},
   "source": [
    "# Day 10\n",
    "Today seems like a relatively easy problem. We need to sum a bunch of things and functions. Basically, we have two variables, the register `X` and the clock circuit. The register is modified by a function `addx V` that changes `X` by `V`. The clock circuit counts the time of the program, `addx V` taking two \"cycles\" to run. In addition there is a function `noop` that takes 1 cycle to run and does nothing."
   ]
  },
  {
   "cell_type": "code",
   "execution_count": 1,
   "metadata": {},
   "outputs": [],
   "source": [
    "program = []\n",
    "with open('./inputs/day10.txt') as file:\n",
    "    for line in file.readlines():\n",
    "        program.append(line.split())\n"
   ]
  },
  {
   "cell_type": "code",
   "execution_count": 16,
   "metadata": {},
   "outputs": [],
   "source": [
    "# output is a list with [register, cycle] \n",
    "register_counter = 1\n",
    "cycle_counter = 1\n",
    "register = []\n",
    "cycle = [cycle_counter]\n",
    "for command in program:\n",
    "    if command[0] == 'noop':\n",
    "        cycle_counter += 1\n",
    "        register.append(register_counter)\n",
    "        cycle.append(cycle_counter)\n",
    "    elif command[0] == 'addx':\n",
    "        # first cycle:\n",
    "        cycle_counter += 1\n",
    "        register.append(register_counter)\n",
    "        cycle.append(cycle_counter) \n",
    "        # second cycle\n",
    "        cycle_counter += 1\n",
    "        register.append(register_counter)\n",
    "        cycle.append(cycle_counter)\n",
    "        register_counter += int(command[1]) # the register is updated AT THE END of the second cycle "
   ]
  },
  {
   "cell_type": "markdown",
   "metadata": {},
   "source": [
    "Good for us, the cycle register is simple units, so:"
   ]
  },
  {
   "cell_type": "code",
   "execution_count": 22,
   "metadata": {},
   "outputs": [],
   "source": [
    "signal = 0\n",
    "for x in [19, 59, 99, 139, 179, 219]:\n",
    "    signal += cycle[x]*register[x]"
   ]
  },
  {
   "cell_type": "code",
   "execution_count": 23,
   "metadata": {},
   "outputs": [
    {
     "name": "stdout",
     "output_type": "stream",
     "text": [
      "The total signal is 16020.\n"
     ]
    }
   ],
   "source": [
    "print(f'The total signal is {signal}.')"
   ]
  },
  {
   "cell_type": "markdown",
   "metadata": {},
   "source": [
    "Part 1 is finished! Easy!\n",
    "\n",
    "## Part 2"
   ]
  },
  {
   "cell_type": "code",
   "execution_count": 54,
   "metadata": {},
   "outputs": [],
   "source": [
    "CRT = ''\n",
    "for i in range(0, len(cycle)):\n",
    "    time = cycle[i]\n",
    "    point_in_row = i % 40\n",
    "    if point_in_row == 0:\n",
    "        CRT += '\\n'\n",
    "\n",
    "    if point_in_row in [register[time - 1]-1, register[time - 1], register[time-1]+1]:\n",
    "        CRT += '#'\n",
    "    else:\n",
    "        CRT += '.'"
   ]
  },
  {
   "cell_type": "code",
   "execution_count": 60,
   "metadata": {},
   "outputs": [
    {
     "data": {
      "text/plain": [
       "1"
      ]
     },
     "execution_count": 60,
     "metadata": {},
     "output_type": "execute_result"
    }
   ],
   "source": []
  },
  {
   "cell_type": "code",
   "execution_count": null,
   "metadata": {},
   "outputs": [],
   "source": []
  }
 ],
 "metadata": {
  "kernelspec": {
   "display_name": "Python 3.10.6 64-bit",
   "language": "python",
   "name": "python3"
  },
  "language_info": {
   "codemirror_mode": {
    "name": "ipython",
    "version": 3
   },
   "file_extension": ".py",
   "mimetype": "text/x-python",
   "name": "python",
   "nbconvert_exporter": "python",
   "pygments_lexer": "ipython3",
   "version": "3.10.6"
  },
  "orig_nbformat": 4,
  "vscode": {
   "interpreter": {
    "hash": "916dbcbb3f70747c44a77c7bcd40155683ae19c65e1c03b4aa3499c5328201f1"
   }
  }
 },
 "nbformat": 4,
 "nbformat_minor": 2
}
