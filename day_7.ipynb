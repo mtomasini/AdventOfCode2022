{
 "cells": [
  {
   "cell_type": "markdown",
   "metadata": {},
   "source": [
    "# Day 7\n",
    "Today we need to count the memory in a folder tree and return the total memory of all the folders with at most 100000 (bytes?). \n",
    "\n",
    "I wanted to implement a class but ended up using `anytree`."
   ]
  },
  {
   "cell_type": "code",
   "execution_count": 1,
   "metadata": {},
   "outputs": [],
   "source": [
    "data_log = []\n",
    "with open('./inputs/day7.txt') as file:\n",
    "    for line in file.readlines():\n",
    "        data_log.append(line[:-1])"
   ]
  },
  {
   "cell_type": "code",
   "execution_count": 2,
   "metadata": {},
   "outputs": [],
   "source": [
    "import anytree"
   ]
  },
  {
   "cell_type": "code",
   "execution_count": 3,
   "metadata": {},
   "outputs": [],
   "source": [
    "line_counter = 2\n",
    "main = anytree.Node('main', type = \"folder\")\n",
    "current_node = main\n",
    "for line in data_log[1:]:\n",
    "    line_counter += 1\n",
    "    # The following line modify the current folder, move up and down!\n",
    "    if line[0:4] == '$ cd':\n",
    "        argument = line[5:]\n",
    "        if argument != '..':\n",
    "            full_name = current_node.name + '/' + argument\n",
    "                \n",
    "            if anytree.find(current_node, lambda node: node.name == full_name) == None:\n",
    "                new_node = anytree.Node(argument, parent = current_node, type='folder')\n",
    "                current_node = new_node\n",
    "            else:\n",
    "                current_node = anytree.find(current_node, lambda node: node.name == argument)\n",
    "                \n",
    "        else:\n",
    "            current_node = current_node.parent\n",
    "            \n",
    "    elif line[0:4] == '$ ls':\n",
    "        continue\n",
    "    \n",
    "    # These lines add subfolders and files in the current folder!\n",
    "    if line[0] != '$':\n",
    "        try:\n",
    "            [file_size, file_name] = line.split()\n",
    "            file_size = int(file_size)\n",
    "            file = anytree.Node(file_name, parent = current_node, size = file_size, type='file')\n",
    "            # file.parent.size += file_size\n",
    "        except:\n",
    "            [cmd, argument] = line.split()\n",
    "            if anytree.find(current_node, lambda node: node.name == argument) == None:\n",
    "                anytree.Node(argument, parent = current_node, type='folder')"
   ]
  },
  {
   "cell_type": "code",
   "execution_count": 4,
   "metadata": {},
   "outputs": [],
   "source": [
    "# cancel all sizes to be sure\n",
    "for folder in anytree.findall(main, filter_=lambda node: node.type=='folder'):\n",
    "    folder.size = 0\n"
   ]
  },
  {
   "cell_type": "code",
   "execution_count": 5,
   "metadata": {},
   "outputs": [],
   "source": [
    "for folder in anytree.PostOrderIter(main):\n",
    "    for item in folder.children:\n",
    "        folder.size += item.size "
   ]
  },
  {
   "cell_type": "code",
   "execution_count": 6,
   "metadata": {},
   "outputs": [],
   "source": [
    "total = 0\n",
    "for small_folder in anytree.findall(main, filter_ = (lambda node: 0 < node.size < 100000 and node.type == 'folder')):\n",
    "    total += small_folder.size"
   ]
  },
  {
   "cell_type": "code",
   "execution_count": 7,
   "metadata": {},
   "outputs": [
    {
     "name": "stdout",
     "output_type": "stream",
     "text": [
      "The total size of the small folders is 1749646.\n"
     ]
    }
   ],
   "source": [
    "print(f'The total size of the small folders is {total}.')"
   ]
  },
  {
   "cell_type": "code",
   "execution_count": 8,
   "metadata": {},
   "outputs": [
    {
     "name": "stdout",
     "output_type": "stream",
     "text": [
      "41412830\n"
     ]
    }
   ],
   "source": []
  },
  {
   "cell_type": "code",
   "execution_count": null,
   "metadata": {},
   "outputs": [],
   "source": []
  }
 ],
 "metadata": {
  "kernelspec": {
   "display_name": "Python 3.10.6 64-bit",
   "language": "python",
   "name": "python3"
  },
  "language_info": {
   "codemirror_mode": {
    "name": "ipython",
    "version": 3
   },
   "file_extension": ".py",
   "mimetype": "text/x-python",
   "name": "python",
   "nbconvert_exporter": "python",
   "pygments_lexer": "ipython3",
   "version": "3.10.6"
  },
  "orig_nbformat": 4,
  "vscode": {
   "interpreter": {
    "hash": "916dbcbb3f70747c44a77c7bcd40155683ae19c65e1c03b4aa3499c5328201f1"
   }
  }
 },
 "nbformat": 4,
 "nbformat_minor": 2
}
