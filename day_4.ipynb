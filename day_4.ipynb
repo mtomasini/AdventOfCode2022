{
 "cells": [
  {
   "cell_type": "markdown",
   "metadata": {},
   "source": [
    "## Day 4\n",
    "\n",
    "Url: https://adventofcode.com/2022/day/4\n",
    "\n",
    "Problem: each line of the input (`'./inputs/day4.txt'`) contains the numbers of sectors assigned for clean-up day to the elves.\n",
    "\n",
    "The sectors are assigned to each elves in couples, _e.g._ (1-3, 2-3), meaning that the first elf of the couple will clean sectors 1, 2 and 3, and the second one 2 and 3. The question is how many elves have been assigned a sector that is completely included in the sector cleaned by the other elf in the pair.\n"
   ]
  },
  {
   "cell_type": "code",
   "execution_count": 3,
   "metadata": {},
   "outputs": [],
   "source": [
    "import pandas as pd"
   ]
  },
  {
   "cell_type": "code",
   "execution_count": 65,
   "metadata": {},
   "outputs": [],
   "source": [
    "cleaning_schedule = pd.read_csv(\"inputs/day4.txt\", header=None)\n",
    "cleaning_schedule.columns = ['range_1', 'range_2']"
   ]
  },
  {
   "cell_type": "markdown",
   "metadata": {},
   "source": [
    "Each element is imported as a string (_e.g._ '8-18'). As a first thing we need to split each point in the data into a start and a beginning."
   ]
  },
  {
   "cell_type": "code",
   "execution_count": 66,
   "metadata": {},
   "outputs": [],
   "source": [
    "cleaning_schedule['interval_1'] = 0\n",
    "cleaning_schedule['interval_2'] = 0\n",
    "cleaning_schedule['overlaps'] = None"
   ]
  },
  {
   "cell_type": "code",
   "execution_count": 67,
   "metadata": {},
   "outputs": [],
   "source": [
    "def find_sector_from_string(sectors_string):\n",
    "    # the sectors are separated by a '-'. So by finding that we should be able to split the string.\n",
    "    start, end = sectors_string.split('-')\n",
    "    return [int(start), int(end)]\n",
    "\n",
    "def does_it_overlap(start_1, end_1, start_2, end_2):\n",
    "    if (start_1 >= start_2) and (end_1 <= end_2):\n",
    "        return True\n",
    "    elif (start_1 <= start_2) and (end_1 >= end_2):\n",
    "        return True\n",
    "    else:\n",
    "        return False"
   ]
  },
  {
   "cell_type": "markdown",
   "metadata": {},
   "source": [
    "Now we just need to apply these functions to the ranges in the dataframe."
   ]
  },
  {
   "cell_type": "code",
   "execution_count": 71,
   "metadata": {},
   "outputs": [],
   "source": [
    "cleaning_schedule['interval_1'] = cleaning_schedule.apply(lambda x: find_sector_from_string(x['range_1']), axis=1)\n",
    "cleaning_schedule['interval_2'] = cleaning_schedule.apply(lambda x: find_sector_from_string(x['range_2']), axis=1)\n",
    "cleaning_schedule['overlaps'] = cleaning_schedule.apply(lambda x: does_it_overlap(x['interval_1'][0], x['interval_1'][1], x['interval_2'][0], x['interval_2'][1]), axis=1)"
   ]
  },
  {
   "cell_type": "code",
   "execution_count": 73,
   "metadata": {},
   "outputs": [
    {
     "data": {
      "text/plain": [
       "448"
      ]
     },
     "execution_count": 73,
     "metadata": {},
     "output_type": "execute_result"
    }
   ],
   "source": [
    "cleaning_schedule['overlaps'].sum()"
   ]
  },
  {
   "cell_type": "code",
   "execution_count": null,
   "metadata": {},
   "outputs": [],
   "source": []
  }
 ],
 "metadata": {
  "kernelspec": {
   "display_name": "Python 3.10.6 64-bit",
   "language": "python",
   "name": "python3"
  },
  "language_info": {
   "codemirror_mode": {
    "name": "ipython",
    "version": 3
   },
   "file_extension": ".py",
   "mimetype": "text/x-python",
   "name": "python",
   "nbconvert_exporter": "python",
   "pygments_lexer": "ipython3",
   "version": "3.10.6"
  },
  "orig_nbformat": 4,
  "vscode": {
   "interpreter": {
    "hash": "916dbcbb3f70747c44a77c7bcd40155683ae19c65e1c03b4aa3499c5328201f1"
   }
  }
 },
 "nbformat": 4,
 "nbformat_minor": 2
}
