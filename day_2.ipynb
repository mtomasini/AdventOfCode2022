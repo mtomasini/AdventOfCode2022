{
 "cells": [
  {
   "cell_type": "markdown",
   "metadata": {},
   "source": [
    "## Day 1\n",
    "Url: https://adventofcode.com/2022/day/2\n",
    "\n",
    "Problem: the input (`'./inputs/day2.txt'`) contains a strategy for a rock-paper-scissor game.\n",
    "\n",
    "The left column indicates what the opponent is going to play, and the right column indicates what the player should play. The question is: how many points will the strategy guide ensure?\n",
    "\n",
    "Points:\n",
    "playing rock = 1 pt\n",
    "playing paper = 2 pt\n",
    "playing scissor = 3 pt\n",
    "winning hand = 6 pt\n",
    "drawing hand = 3 pt\n",
    "losing hand = 0 pt\n",
    "\n",
    "I can do this easily with `pandas`."
   ]
  },
  {
   "cell_type": "code",
   "execution_count": 1,
   "metadata": {},
   "outputs": [],
   "source": [
    "import pandas as pd\n",
    "import numpy as np"
   ]
  },
  {
   "cell_type": "code",
   "execution_count": 15,
   "metadata": {},
   "outputs": [],
   "source": [
    "strategy_guide = pd.read_csv('./inputs/day2.txt', header=None, sep=\" \")\n",
    "strategy_guide.columns = ['opponent', 'should_play']"
   ]
  },
  {
   "cell_type": "markdown",
   "metadata": {},
   "source": [
    "Now I define a function to map each round. I don't wanna think about this, so I will do it with a bunch of inelegant `if` and `elif`."
   ]
  },
  {
   "cell_type": "code",
   "execution_count": 33,
   "metadata": {},
   "outputs": [],
   "source": [
    "POINTS_FOR_WIN =  6\n",
    "POINTS_FOR_LOSS = 0\n",
    "POINTS_FOR_DRAW = 3\n",
    "POINTS_FOR_ROCK = 1\n",
    "POINTS_FOR_PAPER = 2\n",
    "POINTS_FOR_SCISSOR = 3\n",
    "\n",
    "def round_result(opponent_play, my_play):\n",
    "    assert(opponent_play in ['A', 'B', 'C'])\n",
    "    assert(my_play in ['X', 'Y', 'Z'])\n",
    "\n",
    "    points = 0\n",
    "\n",
    "    if my_play == 'X':\n",
    "        points += POINTS_FOR_ROCK\n",
    "        if opponent_play == 'A':\n",
    "            points += POINTS_FOR_DRAW\n",
    "            return points\n",
    "        elif opponent_play == 'B':\n",
    "            points += POINTS_FOR_LOSS\n",
    "            return points\n",
    "        elif opponent_play == 'C':\n",
    "            points += POINTS_FOR_WIN\n",
    "            return points\n",
    "    elif my_play == 'Y':\n",
    "        points += POINTS_FOR_PAPER\n",
    "        if opponent_play == 'A':\n",
    "            points += POINTS_FOR_WIN\n",
    "            return points\n",
    "        elif opponent_play == 'B':\n",
    "            points += POINTS_FOR_DRAW\n",
    "            return points\n",
    "        elif opponent_play == 'C':\n",
    "            points += POINTS_FOR_LOSS\n",
    "            return points\n",
    "    elif my_play == 'Z':\n",
    "        points += POINTS_FOR_SCISSOR\n",
    "        if opponent_play == 'A':\n",
    "            points += POINTS_FOR_LOSS\n",
    "            return points\n",
    "        elif opponent_play == 'B':\n",
    "            points += POINTS_FOR_WIN\n",
    "            return points\n",
    "        elif opponent_play == 'C':\n",
    "            points += POINTS_FOR_DRAW\n",
    "            return points\n",
    "\n",
    "\n",
    "def round_result_test(opponent_play, my_play):\n",
    "    assert(opponent_play in ['A', 'B', 'C'])\n",
    "    assert(my_play in ['X', 'Y', 'Z'])\n",
    "\n",
    "    points = 0\n",
    "\n",
    "    if np.logical_and(my_play == 'X', opponent_play == 'A'):\n",
    "        points += POINTS_FOR_ROCK\n",
    "        points += POINTS_FOR_DRAW\n",
    "        return points\n",
    "    elif np.logical_and(my_play == 'X', opponent_play == 'B'):\n",
    "        points += POINTS_FOR_ROCK\n",
    "        points += POINTS_FOR_LOSS\n",
    "        return points\n",
    "    elif np.logical_and(my_play == 'X', opponent_play == 'C'):\n",
    "        points += POINTS_FOR_ROCK\n",
    "        points += POINTS_FOR_WIN\n",
    "        return points\n",
    "    elif np.logical_and(my_play == 'Y', opponent_play == 'A'):\n",
    "        points += POINTS_FOR_PAPER\n",
    "        points += POINTS_FOR_WIN\n",
    "        return points\n",
    "    elif np.logical_and(my_play == 'Y', opponent_play == 'B'):\n",
    "        points += POINTS_FOR_PAPER\n",
    "        points += POINTS_FOR_DRAW\n",
    "        return points\n",
    "    elif np.logical_and(my_play == 'Y', opponent_play == 'C'):\n",
    "        points += POINTS_FOR_PAPER\n",
    "        points += POINTS_FOR_LOSS\n",
    "        return points\n",
    "    elif np.logical_and(my_play == 'Z', opponent_play == 'A'):\n",
    "        points += POINTS_FOR_SCISSOR\n",
    "        points += POINTS_FOR_LOSS\n",
    "        return points\n",
    "    elif np.logical_and(my_play == 'Z', opponent_play == 'B'):\n",
    "        points += POINTS_FOR_SCISSOR\n",
    "        points += POINTS_FOR_WIN\n",
    "        return points\n",
    "    elif np.logical_and(my_play == 'Z', opponent_play == 'C'):\n",
    "        points += POINTS_FOR_SCISSOR\n",
    "        points += POINTS_FOR_DRAW\n",
    "        return points\n"
   ]
  },
  {
   "cell_type": "code",
   "execution_count": 34,
   "metadata": {},
   "outputs": [
    {
     "ename": "ValueError",
     "evalue": "The truth value of a Series is ambiguous. Use a.empty, a.bool(), a.item(), a.any() or a.all().",
     "output_type": "error",
     "traceback": [
      "\u001b[0;31m---------------------------------------------------------------------------\u001b[0m",
      "\u001b[0;31mValueError\u001b[0m                                Traceback (most recent call last)",
      "\u001b[0;32m/tmp/ipykernel_308862/1208833194.py\u001b[0m in \u001b[0;36m<module>\u001b[0;34m\u001b[0m\n\u001b[1;32m      1\u001b[0m \u001b[0mtest\u001b[0m \u001b[0;34m=\u001b[0m \u001b[0mstrategy_guide\u001b[0m\u001b[0;34m[\u001b[0m\u001b[0;34m:\u001b[0m\u001b[0;36m5\u001b[0m\u001b[0;34m]\u001b[0m\u001b[0;34m\u001b[0m\u001b[0;34m\u001b[0m\u001b[0m\n\u001b[0;32m----> 2\u001b[0;31m \u001b[0mtest\u001b[0m \u001b[0;34m=\u001b[0m \u001b[0mtest\u001b[0m\u001b[0;34m.\u001b[0m\u001b[0massign\u001b[0m\u001b[0;34m(\u001b[0m\u001b[0mresult\u001b[0m\u001b[0;34m=\u001b[0m\u001b[0;32mlambda\u001b[0m \u001b[0mx\u001b[0m\u001b[0;34m:\u001b[0m \u001b[0;34m(\u001b[0m\u001b[0mround_result_test\u001b[0m\u001b[0;34m(\u001b[0m\u001b[0mtest\u001b[0m\u001b[0;34m[\u001b[0m\u001b[0;34m'opponent'\u001b[0m\u001b[0;34m]\u001b[0m\u001b[0;34m,\u001b[0m \u001b[0mtest\u001b[0m\u001b[0;34m[\u001b[0m\u001b[0;34m'should_play'\u001b[0m\u001b[0;34m]\u001b[0m\u001b[0;34m)\u001b[0m\u001b[0;34m)\u001b[0m\u001b[0;34m)\u001b[0m\u001b[0;34m\u001b[0m\u001b[0;34m\u001b[0m\u001b[0m\n\u001b[0m",
      "\u001b[0;32m~/.local/lib/python3.10/site-packages/pandas/core/frame.py\u001b[0m in \u001b[0;36massign\u001b[0;34m(self, **kwargs)\u001b[0m\n\u001b[1;32m   4876\u001b[0m \u001b[0;34m\u001b[0m\u001b[0m\n\u001b[1;32m   4877\u001b[0m         \u001b[0;32mfor\u001b[0m \u001b[0mk\u001b[0m\u001b[0;34m,\u001b[0m \u001b[0mv\u001b[0m \u001b[0;32min\u001b[0m \u001b[0mkwargs\u001b[0m\u001b[0;34m.\u001b[0m\u001b[0mitems\u001b[0m\u001b[0;34m(\u001b[0m\u001b[0;34m)\u001b[0m\u001b[0;34m:\u001b[0m\u001b[0;34m\u001b[0m\u001b[0;34m\u001b[0m\u001b[0m\n\u001b[0;32m-> 4878\u001b[0;31m             \u001b[0mdata\u001b[0m\u001b[0;34m[\u001b[0m\u001b[0mk\u001b[0m\u001b[0;34m]\u001b[0m \u001b[0;34m=\u001b[0m \u001b[0mcom\u001b[0m\u001b[0;34m.\u001b[0m\u001b[0mapply_if_callable\u001b[0m\u001b[0;34m(\u001b[0m\u001b[0mv\u001b[0m\u001b[0;34m,\u001b[0m \u001b[0mdata\u001b[0m\u001b[0;34m)\u001b[0m\u001b[0;34m\u001b[0m\u001b[0;34m\u001b[0m\u001b[0m\n\u001b[0m\u001b[1;32m   4879\u001b[0m         \u001b[0;32mreturn\u001b[0m \u001b[0mdata\u001b[0m\u001b[0;34m\u001b[0m\u001b[0;34m\u001b[0m\u001b[0m\n\u001b[1;32m   4880\u001b[0m \u001b[0;34m\u001b[0m\u001b[0m\n",
      "\u001b[0;32m~/.local/lib/python3.10/site-packages/pandas/core/common.py\u001b[0m in \u001b[0;36mapply_if_callable\u001b[0;34m(maybe_callable, obj, **kwargs)\u001b[0m\n\u001b[1;32m    362\u001b[0m     \"\"\"\n\u001b[1;32m    363\u001b[0m     \u001b[0;32mif\u001b[0m \u001b[0mcallable\u001b[0m\u001b[0;34m(\u001b[0m\u001b[0mmaybe_callable\u001b[0m\u001b[0;34m)\u001b[0m\u001b[0;34m:\u001b[0m\u001b[0;34m\u001b[0m\u001b[0;34m\u001b[0m\u001b[0m\n\u001b[0;32m--> 364\u001b[0;31m         \u001b[0;32mreturn\u001b[0m \u001b[0mmaybe_callable\u001b[0m\u001b[0;34m(\u001b[0m\u001b[0mobj\u001b[0m\u001b[0;34m,\u001b[0m \u001b[0;34m**\u001b[0m\u001b[0mkwargs\u001b[0m\u001b[0;34m)\u001b[0m\u001b[0;34m\u001b[0m\u001b[0;34m\u001b[0m\u001b[0m\n\u001b[0m\u001b[1;32m    365\u001b[0m \u001b[0;34m\u001b[0m\u001b[0m\n\u001b[1;32m    366\u001b[0m     \u001b[0;32mreturn\u001b[0m \u001b[0mmaybe_callable\u001b[0m\u001b[0;34m\u001b[0m\u001b[0;34m\u001b[0m\u001b[0m\n",
      "\u001b[0;32m/tmp/ipykernel_308862/1208833194.py\u001b[0m in \u001b[0;36m<lambda>\u001b[0;34m(x)\u001b[0m\n\u001b[1;32m      1\u001b[0m \u001b[0mtest\u001b[0m \u001b[0;34m=\u001b[0m \u001b[0mstrategy_guide\u001b[0m\u001b[0;34m[\u001b[0m\u001b[0;34m:\u001b[0m\u001b[0;36m5\u001b[0m\u001b[0;34m]\u001b[0m\u001b[0;34m\u001b[0m\u001b[0;34m\u001b[0m\u001b[0m\n\u001b[0;32m----> 2\u001b[0;31m \u001b[0mtest\u001b[0m \u001b[0;34m=\u001b[0m \u001b[0mtest\u001b[0m\u001b[0;34m.\u001b[0m\u001b[0massign\u001b[0m\u001b[0;34m(\u001b[0m\u001b[0mresult\u001b[0m\u001b[0;34m=\u001b[0m\u001b[0;32mlambda\u001b[0m \u001b[0mx\u001b[0m\u001b[0;34m:\u001b[0m \u001b[0;34m(\u001b[0m\u001b[0mround_result_test\u001b[0m\u001b[0;34m(\u001b[0m\u001b[0mtest\u001b[0m\u001b[0;34m[\u001b[0m\u001b[0;34m'opponent'\u001b[0m\u001b[0;34m]\u001b[0m\u001b[0;34m,\u001b[0m \u001b[0mtest\u001b[0m\u001b[0;34m[\u001b[0m\u001b[0;34m'should_play'\u001b[0m\u001b[0;34m]\u001b[0m\u001b[0;34m)\u001b[0m\u001b[0;34m)\u001b[0m\u001b[0;34m)\u001b[0m\u001b[0;34m\u001b[0m\u001b[0;34m\u001b[0m\u001b[0m\n\u001b[0m",
      "\u001b[0;32m/tmp/ipykernel_308862/3716464235.py\u001b[0m in \u001b[0;36mround_result_test\u001b[0;34m(opponent_play, my_play)\u001b[0m\n\u001b[1;32m     48\u001b[0m \u001b[0;34m\u001b[0m\u001b[0m\n\u001b[1;32m     49\u001b[0m \u001b[0;32mdef\u001b[0m \u001b[0mround_result_test\u001b[0m\u001b[0;34m(\u001b[0m\u001b[0mopponent_play\u001b[0m\u001b[0;34m,\u001b[0m \u001b[0mmy_play\u001b[0m\u001b[0;34m)\u001b[0m\u001b[0;34m:\u001b[0m\u001b[0;34m\u001b[0m\u001b[0;34m\u001b[0m\u001b[0m\n\u001b[0;32m---> 50\u001b[0;31m     \u001b[0;32massert\u001b[0m\u001b[0;34m(\u001b[0m\u001b[0mopponent_play\u001b[0m \u001b[0;32min\u001b[0m \u001b[0;34m[\u001b[0m\u001b[0;34m'A'\u001b[0m\u001b[0;34m,\u001b[0m \u001b[0;34m'B'\u001b[0m\u001b[0;34m,\u001b[0m \u001b[0;34m'C'\u001b[0m\u001b[0;34m]\u001b[0m\u001b[0;34m)\u001b[0m\u001b[0;34m\u001b[0m\u001b[0;34m\u001b[0m\u001b[0m\n\u001b[0m\u001b[1;32m     51\u001b[0m     \u001b[0;32massert\u001b[0m\u001b[0;34m(\u001b[0m\u001b[0mmy_play\u001b[0m \u001b[0;32min\u001b[0m \u001b[0;34m[\u001b[0m\u001b[0;34m'X'\u001b[0m\u001b[0;34m,\u001b[0m \u001b[0;34m'Y'\u001b[0m\u001b[0;34m,\u001b[0m \u001b[0;34m'Z'\u001b[0m\u001b[0;34m]\u001b[0m\u001b[0;34m)\u001b[0m\u001b[0;34m\u001b[0m\u001b[0;34m\u001b[0m\u001b[0m\n\u001b[1;32m     52\u001b[0m \u001b[0;34m\u001b[0m\u001b[0m\n",
      "\u001b[0;32m~/.local/lib/python3.10/site-packages/pandas/core/generic.py\u001b[0m in \u001b[0;36m__nonzero__\u001b[0;34m(self)\u001b[0m\n\u001b[1;32m   1525\u001b[0m     \u001b[0;34m@\u001b[0m\u001b[0mfinal\u001b[0m\u001b[0;34m\u001b[0m\u001b[0;34m\u001b[0m\u001b[0m\n\u001b[1;32m   1526\u001b[0m     \u001b[0;32mdef\u001b[0m \u001b[0m__nonzero__\u001b[0m\u001b[0;34m(\u001b[0m\u001b[0mself\u001b[0m\u001b[0;34m)\u001b[0m \u001b[0;34m->\u001b[0m \u001b[0mNoReturn\u001b[0m\u001b[0;34m:\u001b[0m\u001b[0;34m\u001b[0m\u001b[0;34m\u001b[0m\u001b[0m\n\u001b[0;32m-> 1527\u001b[0;31m         raise ValueError(\n\u001b[0m\u001b[1;32m   1528\u001b[0m             \u001b[0;34mf\"The truth value of a {type(self).__name__} is ambiguous. \"\u001b[0m\u001b[0;34m\u001b[0m\u001b[0;34m\u001b[0m\u001b[0m\n\u001b[1;32m   1529\u001b[0m             \u001b[0;34m\"Use a.empty, a.bool(), a.item(), a.any() or a.all().\"\u001b[0m\u001b[0;34m\u001b[0m\u001b[0;34m\u001b[0m\u001b[0m\n",
      "\u001b[0;31mValueError\u001b[0m: The truth value of a Series is ambiguous. Use a.empty, a.bool(), a.item(), a.any() or a.all()."
     ]
    }
   ],
   "source": [
    "test = strategy_guide[:5]\n",
    "test = test.assign(result=lambda x: (round_result_test(test['opponent'], test['should_play'])))"
   ]
  },
  {
   "cell_type": "code",
   "execution_count": null,
   "metadata": {},
   "outputs": [],
   "source": []
  }
 ],
 "metadata": {
  "kernelspec": {
   "display_name": "Python 3.10.6 64-bit",
   "language": "python",
   "name": "python3"
  },
  "language_info": {
   "codemirror_mode": {
    "name": "ipython",
    "version": 3
   },
   "file_extension": ".py",
   "mimetype": "text/x-python",
   "name": "python",
   "nbconvert_exporter": "python",
   "pygments_lexer": "ipython3",
   "version": "3.10.6"
  },
  "orig_nbformat": 4,
  "vscode": {
   "interpreter": {
    "hash": "916dbcbb3f70747c44a77c7bcd40155683ae19c65e1c03b4aa3499c5328201f1"
   }
  }
 },
 "nbformat": 4,
 "nbformat_minor": 2
}
