{
 "cells": [
  {
   "cell_type": "markdown",
   "metadata": {},
   "source": [
    "## Day 2\n",
    "Url: https://adventofcode.com/2022/day/2\n",
    "\n",
    "Problem: the input (`'./inputs/day2.txt'`) contains a strategy for a rock-paper-scissor game.\n",
    "\n",
    "The left column indicates what the opponent is going to play, and the right column indicates what the player should play. The question is: how many points will the strategy guide ensure?\n",
    "\n",
    "Points:\n",
    "playing rock = 1 pt\n",
    "playing paper = 2 pt\n",
    "playing scissor = 3 pt\n",
    "winning hand = 6 pt\n",
    "drawing hand = 3 pt\n",
    "losing hand = 0 pt\n",
    "\n",
    "I can do this easily with `pandas`."
   ]
  },
  {
   "cell_type": "code",
   "execution_count": 1,
   "metadata": {},
   "outputs": [],
   "source": [
    "import pandas as pd\n",
    "import numpy as np"
   ]
  },
  {
   "cell_type": "code",
   "execution_count": 15,
   "metadata": {},
   "outputs": [],
   "source": [
    "strategy_guide = pd.read_csv('./inputs/day2.txt', header=None, sep=\" \")\n",
    "strategy_guide.columns = ['opponent', 'should_play']"
   ]
  },
  {
   "cell_type": "markdown",
   "metadata": {},
   "source": [
    "Now I define a function to map each round. I don't wanna think about this, so I will do it with a bunch of inelegant `if` and `elif`."
   ]
  },
  {
   "cell_type": "code",
   "execution_count": 33,
   "metadata": {},
   "outputs": [],
   "source": [
    "POINTS_FOR_WIN =  6\n",
    "POINTS_FOR_LOSS = 0\n",
    "POINTS_FOR_DRAW = 3\n",
    "POINTS_FOR_ROCK = 1\n",
    "POINTS_FOR_PAPER = 2\n",
    "POINTS_FOR_SCISSOR = 3\n",
    "\n",
    "def round_result(opponent_play, my_play):\n",
    "    assert(opponent_play in ['A', 'B', 'C'])\n",
    "    assert(my_play in ['X', 'Y', 'Z'])\n",
    "\n",
    "    points = 0\n",
    "\n",
    "    if my_play == 'X':\n",
    "        points += POINTS_FOR_ROCK\n",
    "        if opponent_play == 'A':\n",
    "            points += POINTS_FOR_DRAW\n",
    "            return points\n",
    "        elif opponent_play == 'B':\n",
    "            points += POINTS_FOR_LOSS\n",
    "            return points\n",
    "        elif opponent_play == 'C':\n",
    "            points += POINTS_FOR_WIN\n",
    "            return points\n",
    "    elif my_play == 'Y':\n",
    "        points += POINTS_FOR_PAPER\n",
    "        if opponent_play == 'A':\n",
    "            points += POINTS_FOR_WIN\n",
    "            return points\n",
    "        elif opponent_play == 'B':\n",
    "            points += POINTS_FOR_DRAW\n",
    "            return points\n",
    "        elif opponent_play == 'C':\n",
    "            points += POINTS_FOR_LOSS\n",
    "            return points\n",
    "    elif my_play == 'Z':\n",
    "        points += POINTS_FOR_SCISSOR\n",
    "        if opponent_play == 'A':\n",
    "            points += POINTS_FOR_LOSS\n",
    "            return points\n",
    "        elif opponent_play == 'B':\n",
    "            points += POINTS_FOR_WIN\n",
    "            return points\n",
    "        elif opponent_play == 'C':\n",
    "            points += POINTS_FOR_DRAW\n",
    "            return points\n",
    "\n"
   ]
  },
  {
   "cell_type": "markdown",
   "metadata": {},
   "source": [
    "Because of how stupid `pandas` sometimes can be, using the `assign` method on this function tends to overload the `and` statements. I will resort on looping, because I don't want to find a smarter way."
   ]
  },
  {
   "cell_type": "code",
   "execution_count": 37,
   "metadata": {},
   "outputs": [
    {
     "data": {
      "text/html": [
       "<div>\n",
       "<style scoped>\n",
       "    .dataframe tbody tr th:only-of-type {\n",
       "        vertical-align: middle;\n",
       "    }\n",
       "\n",
       "    .dataframe tbody tr th {\n",
       "        vertical-align: top;\n",
       "    }\n",
       "\n",
       "    .dataframe thead th {\n",
       "        text-align: right;\n",
       "    }\n",
       "</style>\n",
       "<table border=\"1\" class=\"dataframe\">\n",
       "  <thead>\n",
       "    <tr style=\"text-align: right;\">\n",
       "      <th></th>\n",
       "      <th>opponent</th>\n",
       "      <th>should_play</th>\n",
       "      <th>points</th>\n",
       "    </tr>\n",
       "  </thead>\n",
       "  <tbody>\n",
       "    <tr>\n",
       "      <th>0</th>\n",
       "      <td>A</td>\n",
       "      <td>Y</td>\n",
       "      <td>0</td>\n",
       "    </tr>\n",
       "    <tr>\n",
       "      <th>1</th>\n",
       "      <td>B</td>\n",
       "      <td>Z</td>\n",
       "      <td>0</td>\n",
       "    </tr>\n",
       "    <tr>\n",
       "      <th>2</th>\n",
       "      <td>C</td>\n",
       "      <td>Y</td>\n",
       "      <td>0</td>\n",
       "    </tr>\n",
       "    <tr>\n",
       "      <th>3</th>\n",
       "      <td>B</td>\n",
       "      <td>Y</td>\n",
       "      <td>0</td>\n",
       "    </tr>\n",
       "    <tr>\n",
       "      <th>4</th>\n",
       "      <td>A</td>\n",
       "      <td>Y</td>\n",
       "      <td>0</td>\n",
       "    </tr>\n",
       "    <tr>\n",
       "      <th>...</th>\n",
       "      <td>...</td>\n",
       "      <td>...</td>\n",
       "      <td>...</td>\n",
       "    </tr>\n",
       "    <tr>\n",
       "      <th>2495</th>\n",
       "      <td>A</td>\n",
       "      <td>Y</td>\n",
       "      <td>0</td>\n",
       "    </tr>\n",
       "    <tr>\n",
       "      <th>2496</th>\n",
       "      <td>B</td>\n",
       "      <td>Y</td>\n",
       "      <td>0</td>\n",
       "    </tr>\n",
       "    <tr>\n",
       "      <th>2497</th>\n",
       "      <td>A</td>\n",
       "      <td>Z</td>\n",
       "      <td>0</td>\n",
       "    </tr>\n",
       "    <tr>\n",
       "      <th>2498</th>\n",
       "      <td>A</td>\n",
       "      <td>Y</td>\n",
       "      <td>0</td>\n",
       "    </tr>\n",
       "    <tr>\n",
       "      <th>2499</th>\n",
       "      <td>A</td>\n",
       "      <td>Y</td>\n",
       "      <td>0</td>\n",
       "    </tr>\n",
       "  </tbody>\n",
       "</table>\n",
       "<p>2500 rows × 3 columns</p>\n",
       "</div>"
      ],
      "text/plain": [
       "     opponent should_play  points\n",
       "0           A           Y       0\n",
       "1           B           Z       0\n",
       "2           C           Y       0\n",
       "3           B           Y       0\n",
       "4           A           Y       0\n",
       "...       ...         ...     ...\n",
       "2495        A           Y       0\n",
       "2496        B           Y       0\n",
       "2497        A           Z       0\n",
       "2498        A           Y       0\n",
       "2499        A           Y       0\n",
       "\n",
       "[2500 rows x 3 columns]"
      ]
     },
     "execution_count": 37,
     "metadata": {},
     "output_type": "execute_result"
    }
   ],
   "source": [
    "strategy_guide['points'] = 0"
   ]
  },
  {
   "cell_type": "code",
   "execution_count": 38,
   "metadata": {},
   "outputs": [
    {
     "name": "stderr",
     "output_type": "stream",
     "text": [
      "/tmp/ipykernel_308862/3424146821.py:2: SettingWithCopyWarning: \n",
      "A value is trying to be set on a copy of a slice from a DataFrame\n",
      "\n",
      "See the caveats in the documentation: https://pandas.pydata.org/pandas-docs/stable/user_guide/indexing.html#returning-a-view-versus-a-copy\n",
      "  strategy_guide['points'][i] = round_result(strategy_guide['opponent'][i], strategy_guide['should_play'][i])\n"
     ]
    }
   ],
   "source": [
    "for i in range(0, len(strategy_guide)):\n",
    "    strategy_guide['points'][i] = round_result(strategy_guide['opponent'][i], strategy_guide['should_play'][i])"
   ]
  },
  {
   "cell_type": "markdown",
   "metadata": {},
   "source": [
    "Finally, the total result will be:"
   ]
  },
  {
   "cell_type": "code",
   "execution_count": 44,
   "metadata": {},
   "outputs": [
    {
     "name": "stdout",
     "output_type": "stream",
     "text": [
      "Total points: 15632\n"
     ]
    }
   ],
   "source": [
    "final_result = strategy_guide['points'].sum()\n",
    "print(f'Total points: {final_result}')"
   ]
  },
  {
   "cell_type": "markdown",
   "metadata": {},
   "source": [
    "## Part two\n",
    "Turns out I'm a moron (in the fiction, but also a bit in reality), and you misinterpreted the guide. Apparently, the code is the following:\n",
    "\n",
    "`'X'` means that you need to loose the round.\n",
    "`'Y'` means that you need to draw the round.\n",
    "`'Z'` means that you need to win the round.\n",
    "\n",
    "I'm just gonna remap the same function as before:"
   ]
  },
  {
   "cell_type": "code",
   "execution_count": null,
   "metadata": {},
   "outputs": [],
   "source": [
    "def real_result(opponent_play, my_play):\n",
    "    assert(opponent_play in ['A', 'B', 'C'])\n",
    "    assert(my_play in ['X', 'Y', 'Z'])\n",
    "\n",
    "    points = 0\n",
    "\n",
    "    if my_play == 'X':\n",
    "        points += POINTS_FOR_ROCK\n",
    "        if opponent_play == 'A':\n",
    "            points += POINTS_FOR_DRAW\n",
    "            return points\n",
    "        elif opponent_play == 'B':\n",
    "            points += POINTS_FOR_LOSS\n",
    "            return points\n",
    "        elif opponent_play == 'C':\n",
    "            points += POINTS_FOR_WIN\n",
    "            return points\n",
    "    elif my_play == 'Y':\n",
    "        points += POINTS_FOR_PAPER\n",
    "        if opponent_play == 'A':\n",
    "            points += POINTS_FOR_WIN\n",
    "            return points\n",
    "        elif opponent_play == 'B':\n",
    "            points += POINTS_FOR_DRAW\n",
    "            return points\n",
    "        elif opponent_play == 'C':\n",
    "            points += POINTS_FOR_LOSS\n",
    "            return points\n",
    "    elif my_play == 'Z':\n",
    "        points += POINTS_FOR_SCISSOR\n",
    "        if opponent_play == 'A':\n",
    "            points += POINTS_FOR_LOSS\n",
    "            return points\n",
    "        elif opponent_play == 'B':\n",
    "            points += POINTS_FOR_WIN\n",
    "            return points\n",
    "        elif opponent_play == 'C':\n",
    "            points += POINTS_FOR_DRAW\n",
    "            return points\n"
   ]
  }
 ],
 "metadata": {
  "kernelspec": {
   "display_name": "Python 3.10.6 64-bit",
   "language": "python",
   "name": "python3"
  },
  "language_info": {
   "codemirror_mode": {
    "name": "ipython",
    "version": 3
   },
   "file_extension": ".py",
   "mimetype": "text/x-python",
   "name": "python",
   "nbconvert_exporter": "python",
   "pygments_lexer": "ipython3",
   "version": "3.10.6"
  },
  "orig_nbformat": 4,
  "vscode": {
   "interpreter": {
    "hash": "916dbcbb3f70747c44a77c7bcd40155683ae19c65e1c03b4aa3499c5328201f1"
   }
  }
 },
 "nbformat": 4,
 "nbformat_minor": 2
}
