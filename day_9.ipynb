{
 "cells": [
  {
   "cell_type": "markdown",
   "metadata": {},
   "source": [
    "# Day 9\n",
    "OK, today sounds like fun. We are simulating a point (head) moving around a grid, with a second point (tail) following with a precise rule. We want to know how many places the tail visited at least once."
   ]
  },
  {
   "cell_type": "code",
   "execution_count": 20,
   "metadata": {},
   "outputs": [],
   "source": [
    "motions = []\n",
    "with open('./inputs/day9.txt') as file:\n",
    "    for line in file.readlines():\n",
    "        motions.append(line.split())"
   ]
  },
  {
   "cell_type": "markdown",
   "metadata": {},
   "source": [
    "In general, if the two are on the same row and they move R or L, the tail just follows. If they are on the same column and move U or D is the same thing. When they move in one direction for more than 2 points, as long as they are not diagonal to start that movement, they will stay together."
   ]
  },
  {
   "cell_type": "code",
   "execution_count": 158,
   "metadata": {},
   "outputs": [],
   "source": [
    "def head_move(direction):\n",
    "    match direction:\n",
    "        case 'R':\n",
    "            head_displacement = [1, 0]    \n",
    "        case 'L':\n",
    "            head_displacement = [-1, 0]\n",
    "        case 'U':\n",
    "            head_displacement = [0, 1]\n",
    "        case 'D':\n",
    "            head_displacement = [0, -1]\n",
    "        case _:\n",
    "            pass\n",
    "    return head_displacement\n",
    "\n",
    "def calculate_tail_position(initial_tail, final_head):\n",
    "    [tail_x, tail_y] = initial_tail\n",
    "    [head_x, head_y] = final_head\n",
    "    diff_x = tail_x - head_x # if 0, they are on same column\n",
    "    diff_y = tail_y - head_y # if 0, they are on same row\n",
    "    absolute_distance = abs(diff_x) + abs(diff_y)\n",
    "\n",
    "    if absolute_distance < 2:\n",
    "        # if the distance is 0 or 1, they are already straight-adjacent, or overlapping\n",
    "        return [tail_x, tail_y]\n",
    "    elif absolute_distance == 2:\n",
    "        if abs(diff_x) == 1 and abs(diff_y) == 1:\n",
    "            # diagonal case, the tail does not move\n",
    "            return [tail_x, tail_y]\n",
    "        else:\n",
    "            if abs(diff_x) == 2:\n",
    "                # this is same row, but two columns right or left\n",
    "                sign = int(diff_x/abs(diff_x))\n",
    "                # if sign is positive, the tail is ahead of the x, and it needs to move -1\n",
    "                # if sign is negative, the tail is behind the x, and it needs to move +1\n",
    "                displacement_x = tail_x - sign\n",
    "                return [displacement_x, tail_y]\n",
    "            if abs(diff_y) == 2:\n",
    "                # this is same column, but two rows up or down\n",
    "                sign = int((diff_y)/abs(diff_y))\n",
    "                displacement_y = tail_y - sign\n",
    "                return [tail_x, displacement_y]\n",
    "    elif absolute_distance > 2:\n",
    "        sign_x = int((diff_x)/abs(diff_x))\n",
    "        sign_y = int((diff_y)/abs(diff_y))\n",
    "        displacement_x = tail_x - sign_x\n",
    "        displacement_y = tail_y - sign_y\n",
    "        return [displacement_x, displacement_y]\n",
    "        # this are always diagonal cases where the tail has to follow on different x and y\n",
    "        # if abs(diff_x) > 2:\n",
    "        #     # this is with head on one row up or down. Tail always follows in that row.\n",
    "        #     sign_x = int((diff_x)/abs(diff_x))\n",
    "        #     sign_y = int((diff_y)/abs(diff_y))\n",
    "        #     displacement_x = tail_x - sign_x\n",
    "        #     displacement_y = tail_y - sign_y\n",
    "        #     return [displacement_x, head_y]\n",
    "        # elif abs(tail_y - head_y) > 2:\n",
    "        #     # this is with head on another row\n",
    "        #     sign = int((diff_y)/abs(diff_y))\n",
    "        #     displacement_y = tail_y - sign\n",
    "        #     return [head_x, displacement_y]\n",
    "    "
   ]
  },
  {
   "cell_type": "code",
   "execution_count": 159,
   "metadata": {},
   "outputs": [],
   "source": [
    "head_position = [(0,0)]\n",
    "tail_position = [(0,0)]\n",
    "count = 0\n",
    "for line in motions:\n",
    "    count += 1\n",
    "    direction = line[0]\n",
    "    steps = int(line[1])\n",
    "    for step in range(0, steps):\n",
    "        position_x = head_position[-1][0]\n",
    "        position_y = head_position[-1][1]\n",
    "        [displacement_x, displacement_y] = head_move(direction)\n",
    "        new_x = position_x + displacement_x\n",
    "        new_y = position_y + displacement_y\n",
    "        head_position.append((new_x, new_y))\n",
    "        new_tail = calculate_tail_position(tail_position[-1], head_position[-1])\n",
    "        tail_position.append((int(new_tail[0]), int(new_tail[1])))"
   ]
  },
  {
   "cell_type": "code",
   "execution_count": 160,
   "metadata": {},
   "outputs": [
    {
     "name": "stdout",
     "output_type": "stream",
     "text": [
      "The number of unique tail positions is 6642.\n"
     ]
    }
   ],
   "source": [
    "unique_positions = set(tail_position)\n",
    "print(f'The number of unique tail positions is {len(unique_positions)}.')"
   ]
  },
  {
   "cell_type": "markdown",
   "metadata": {},
   "source": [
    "The response was correct.\n",
    "\n",
    "## Part 2\n",
    "Now the rope, instead of just two knots (head and tail), is composed by 10 nots! What positions does the tail visit?"
   ]
  },
  {
   "cell_type": "code",
   "execution_count": 161,
   "metadata": {},
   "outputs": [],
   "source": [
    "tail_position = [(0,0)]\n",
    "count = 0\n",
    "positions = [(0,0)]*10\n",
    "for line in motions:\n",
    "    count += 1\n",
    "    direction = line[0]\n",
    "    steps = int(line[1])\n",
    "    for step in range(0, steps):\n",
    "        # move head\n",
    "        position_x = positions[0][0]\n",
    "        position_y = positions[0][1]\n",
    "        [displacement_x, displacement_y] = head_move(direction)\n",
    "        new_x = position_x + displacement_x\n",
    "        new_y = position_y + displacement_y\n",
    "        positions[0] = (int(new_x), int(new_y))\n",
    "        # THIS PART WORKS. Tested versus head_position above.\n",
    "            \n",
    "        for knot in range(1, 10):\n",
    "            present_knot_position = positions[knot]\n",
    "            position_knot_to_follow = positions[knot-1]\n",
    "            new_knot_position = calculate_tail_position(positions[knot], positions[knot-1])\n",
    "            positions[knot] = (new_knot_position[0], new_knot_position[1])\n",
    "            if knot == 9:\n",
    "                tail_position.append(positions[9])"
   ]
  },
  {
   "cell_type": "code",
   "execution_count": 162,
   "metadata": {},
   "outputs": [
    {
     "name": "stdout",
     "output_type": "stream",
     "text": [
      "The number of visited positions is 2765.\n"
     ]
    }
   ],
   "source": [
    "print(f'The number of visited positions is {len(set(tail_position))}.')"
   ]
  },
  {
   "cell_type": "markdown",
   "metadata": {},
   "source": [
    "Today is done, despite lots of tiredness! It was tricky to get the logic right, but the problem itself was not particularly difficult."
   ]
  }
 ],
 "metadata": {
  "kernelspec": {
   "display_name": "Python 3.10.6 64-bit",
   "language": "python",
   "name": "python3"
  },
  "language_info": {
   "codemirror_mode": {
    "name": "ipython",
    "version": 3
   },
   "file_extension": ".py",
   "mimetype": "text/x-python",
   "name": "python",
   "nbconvert_exporter": "python",
   "pygments_lexer": "ipython3",
   "version": "3.10.6"
  },
  "orig_nbformat": 4,
  "vscode": {
   "interpreter": {
    "hash": "916dbcbb3f70747c44a77c7bcd40155683ae19c65e1c03b4aa3499c5328201f1"
   }
  }
 },
 "nbformat": 4,
 "nbformat_minor": 2
}
