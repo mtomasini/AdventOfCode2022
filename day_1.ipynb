{
 "cells": [
  {
   "cell_type": "markdown",
   "metadata": {},
   "source": [
    "## Day 1\n",
    "Url: https://adventofcode.com/2022/day/1\n",
    "\n",
    "Problem: the input (`'./inputs/day1.txt'`) contains the \"calories\" inventory for each elf. \n",
    "\n",
    "On each line there are the calories carried by one elf, blank lines separate elves. How\n",
    "many total calories is the elf with more calories carrying?"
   ]
  },
  {
   "cell_type": "code",
   "execution_count": 1,
   "metadata": {},
   "outputs": [],
   "source": [
    "import pandas as pd\n",
    "\n",
    "inventory = open('./inputs/day1.txt', 'r')\n",
    "inventory_lines = inventory.readlines()\n"
   ]
  },
  {
   "cell_type": "markdown",
   "metadata": {},
   "source": [
    "Now, create a dataframe, where the index is the elf ID, and the second number is the calories it carries. The length is not important as we are not scrapping for resources here. I choose the number of lines as it's a minimum correct number.\n"
   ]
  },
  {
   "cell_type": "code",
   "execution_count": 2,
   "metadata": {},
   "outputs": [],
   "source": [
    "elves_inventory = pd.Series(0, index=range(1,len(inventory_lines)+1) )\n"
   ]
  },
  {
   "cell_type": "code",
   "execution_count": 3,
   "metadata": {},
   "outputs": [],
   "source": [
    "elf_count = 1\n",
    "elf_calories = 0\n",
    "skips = 0 # to count how many separations there are\n",
    "\n",
    "for line in inventory_lines:\n",
    "    if line != '\\n':\n",
    "        calories_in_line = int(line)\n",
    "        elf_calories += calories_in_line\n",
    "    elif line == '\\n':\n",
    "        # when reaching a blank line: \n",
    "        # appoint the sum of calories to the right elf\n",
    "        elves_inventory[elf_count] = elf_calories\n",
    "        # start counting new elf\n",
    "        elf_count += 1\n",
    "        # cancel calories count:\n",
    "        elf_calories = 0\n",
    "\n",
    "inventory.close()\n",
    "\n"
   ]
  },
  {
   "cell_type": "markdown",
   "metadata": {},
   "source": [
    "Because our code sums up elves after a break, and the last line is not a break, we need to insert the last elf!"
   ]
  },
  {
   "cell_type": "code",
   "execution_count": 4,
   "metadata": {},
   "outputs": [],
   "source": [
    "elves_inventory[elf_count] = elf_calories"
   ]
  },
  {
   "cell_type": "markdown",
   "metadata": {},
   "source": [
    "Now for cleanliness we just drop the empty spots from the dataframe."
   ]
  },
  {
   "cell_type": "code",
   "execution_count": 5,
   "metadata": {},
   "outputs": [],
   "source": [
    "elves_inventory = elves_inventory.loc[(elves_inventory!=0)]"
   ]
  },
  {
   "cell_type": "code",
   "execution_count": 6,
   "metadata": {},
   "outputs": [
    {
     "data": {
      "text/plain": [
       "1      67852\n",
       "2      62262\n",
       "3      45402\n",
       "4      53612\n",
       "5      53957\n",
       "       ...  \n",
       "237    41762\n",
       "238    48349\n",
       "239    67563\n",
       "240    42033\n",
       "241    47969\n",
       "Length: 241, dtype: int64"
      ]
     },
     "execution_count": 6,
     "metadata": {},
     "output_type": "execute_result"
    }
   ],
   "source": [
    "elves_inventory"
   ]
  },
  {
   "cell_type": "markdown",
   "metadata": {},
   "source": [
    "We can search for the index where the maximum is found. "
   ]
  },
  {
   "cell_type": "code",
   "execution_count": 7,
   "metadata": {},
   "outputs": [
    {
     "name": "stdout",
     "output_type": "stream",
     "text": [
      "The 172th elf carries the most calories, that is 70509 calories.\n"
     ]
    }
   ],
   "source": [
    "print(f'The {elves_inventory.idxmax()}th elf carries the most calories, that is {elves_inventory.max()} calories.')"
   ]
  },
  {
   "cell_type": "markdown",
   "metadata": {},
   "source": [
    "Thus the 172nd elf carries the most calories!"
   ]
  },
  {
   "cell_type": "markdown",
   "metadata": {},
   "source": [
    "## Second part\n",
    "In the second part, it is asked to name the top three elves and the total sum of calories between them! In a rough way, we redefine three inventories, once for all calories below the max, and then for all the calories below the max of that one:"
   ]
  },
  {
   "cell_type": "code",
   "execution_count": 17,
   "metadata": {},
   "outputs": [
    {
     "name": "stdout",
     "output_type": "stream",
     "text": [
      "70509 69894 68164\n"
     ]
    },
    {
     "data": {
      "text/plain": [
       "28     68164\n",
       "80     69894\n",
       "172    70509\n",
       "dtype: int64"
      ]
     },
     "execution_count": 17,
     "metadata": {},
     "output_type": "execute_result"
    }
   ],
   "source": [
    "calories_elf_1 = elves_inventory.max()\n",
    "elves_inventory_wo_max = elves_inventory.loc[(elves_inventory < calories_elf_1)]\n",
    "\n",
    "calories_elf_2 = elves_inventory_wo_max.max()\n",
    "elves_inventory_wo_max_2 = elves_inventory.loc[(elves_inventory < calories_elf_2)]\n",
    "\n",
    "calories_elf_3 = elves_inventory_wo_max_2.max()\n",
    "\n",
    "print(calories_elf_1, calories_elf_2, calories_elf_3)\n",
    "\n",
    "elves_inventory.loc[(elves_inventory >= calories_elf_3)]"
   ]
  },
  {
   "cell_type": "code",
   "execution_count": 9,
   "metadata": {},
   "outputs": [
    {
     "name": "stdout",
     "output_type": "stream",
     "text": [
      "total calories carried by top three: 208567 calories.\n"
     ]
    }
   ],
   "source": [
    "print(f'total calories carried by top three: {calories_elf_1 + calories_elf_2 + calories_elf_3} calories.')"
   ]
  }
 ],
 "metadata": {
  "kernelspec": {
   "display_name": "Python 3.10.6 64-bit",
   "language": "python",
   "name": "python3"
  },
  "language_info": {
   "codemirror_mode": {
    "name": "ipython",
    "version": 3
   },
   "file_extension": ".py",
   "mimetype": "text/x-python",
   "name": "python",
   "nbconvert_exporter": "python",
   "pygments_lexer": "ipython3",
   "version": "3.10.6"
  },
  "orig_nbformat": 4,
  "vscode": {
   "interpreter": {
    "hash": "916dbcbb3f70747c44a77c7bcd40155683ae19c65e1c03b4aa3499c5328201f1"
   }
  }
 },
 "nbformat": 4,
 "nbformat_minor": 2
}
