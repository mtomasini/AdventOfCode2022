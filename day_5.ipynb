{
 "cells": [
  {
   "cell_type": "markdown",
   "metadata": {},
   "source": [
    "# Day 5\n",
    "\n",
    "The elves are moving stuff around! They have a few stacks of cranes that has been moved around, and they would like to know what cranes ended up on top of which stack. We know the initial stack and the rearrangement scheme. Can we give the right answer?"
   ]
  },
  {
   "cell_type": "code",
   "execution_count": 1,
   "metadata": {},
   "outputs": [],
   "source": [
    "import pandas as pd\n",
    "import numpy as np\n"
   ]
  },
  {
   "cell_type": "markdown",
   "metadata": {},
   "source": [
    "First (only?) problem is that the input is non standard. The first 9 lines are the little scheme."
   ]
  },
  {
   "cell_type": "code",
   "execution_count": 2,
   "metadata": {},
   "outputs": [],
   "source": [
    "file = open('./inputs/day5.txt')\n",
    "lines = file.readlines()\n",
    "\n",
    "initial_stack = ['']*9\n",
    "\n",
    "count = 0\n",
    "for line in lines:\n",
    "    initial_stack[count] = line\n",
    "    \n",
    "    if count == 8:\n",
    "        break\n",
    "    \n",
    "    count += 1\n",
    "\n",
    "file.close()"
   ]
  },
  {
   "cell_type": "code",
   "execution_count": 19,
   "metadata": {},
   "outputs": [],
   "source": [
    "movements = pd.read_csv('./inputs/day5.txt', header=None, skiprows=9)\n",
    "movements.columns = ['input']"
   ]
  },
  {
   "cell_type": "code",
   "execution_count": 20,
   "metadata": {},
   "outputs": [],
   "source": [
    "movements['move']  = movements.apply(lambda x: x['input'].split()[1], axis=1)\n",
    "movements['from'] = movements.apply(lambda x: x['input'].split()[3], axis=1)\n",
    "movements['to'] = movements.apply(lambda x: x['input'].split()[5], axis=1)"
   ]
  },
  {
   "cell_type": "markdown",
   "metadata": {},
   "source": [
    "Now we still need to make the stack readable and accessible!"
   ]
  },
  {
   "cell_type": "markdown",
   "metadata": {},
   "source": [
    "Each element of the stack takes 4 spaces (3 characters and one space). Thus, if the % 4 element is a `[`, it contains a letter, if it's a `' '` it contains an empty spot."
   ]
  },
  {
   "cell_type": "code",
   "execution_count": 45,
   "metadata": {},
   "outputs": [],
   "source": [
    "def line_parser(line):\n",
    "    parsed_line = []\n",
    "    for index in range(0, len(line), 4):\n",
    "        if line[index] == '[':\n",
    "            to_append = line[index:index+3]\n",
    "            parsed_line.append(to_append)\n",
    "        elif line[index] == ' ':\n",
    "            parsed_line.append('')\n",
    "\n",
    "    return parsed_line"
   ]
  },
  {
   "cell_type": "code",
   "execution_count": 110,
   "metadata": {},
   "outputs": [],
   "source": [
    "stack_matrix = pd.DataFrame('',columns=range(1,10), index=range(1,9))\n",
    "index = 0\n",
    "for line in initial_stack:\n",
    "    stack_matrix.iloc[index] = pd.Series(line_parser(line))\n",
    "    index += 1\n",
    "    if index == 8:\n",
    "        break"
   ]
  },
  {
   "cell_type": "markdown",
   "metadata": {},
   "source": [
    "Finally the stack is now ready to be manipulated. However, I have no time to understand how to do it (I got a job) so I will transform the stack into 9 `pd.Series()` object and do manipulations on those."
   ]
  },
  {
   "cell_type": "code",
   "execution_count": 250,
   "metadata": {},
   "outputs": [],
   "source": [
    "stack_1 = list(stack_matrix[1][stack_matrix[1] != ''])\n",
    "stack_2 = list(stack_matrix[2][stack_matrix[2] != ''])\n",
    "stack_3 = list(stack_matrix[3][stack_matrix[3] != ''])\n",
    "stack_4 = list(stack_matrix[4][stack_matrix[4] != ''])\n",
    "stack_5 = list(stack_matrix[5][stack_matrix[5] != ''])\n",
    "stack_6 = list(stack_matrix[6][stack_matrix[6] != ''])\n",
    "stack_7 = list(stack_matrix[7][stack_matrix[7] != ''])\n",
    "stack_8 = list(stack_matrix[8][stack_matrix[8] != ''])\n",
    "stack_9 = list(stack_matrix[9][stack_matrix[9] != ''])"
   ]
  },
  {
   "cell_type": "code",
   "execution_count": 258,
   "metadata": {},
   "outputs": [],
   "source": [
    "list_of_stacks = [stack_1, stack_2, stack_3, stack_4, stack_5, stack_6, stack_7, stack_8, stack_9]\n",
    "def operate_crane(instruction):\n",
    "    how_many = int(instruction['move'])\n",
    "    where_from = int(instruction['from'])\n",
    "    where_to = int(instruction['to'])\n",
    "\n",
    "    from_which = list_of_stacks[where_from - 1] # output stack_x\n",
    "    to_which = list_of_stacks[where_to - 1]\n",
    "\n",
    "    # to_move = []\n",
    "    for i in range(0, how_many):\n",
    "        if len(from_which) > 0:\n",
    "            to_which.insert(0, from_which.pop(0))\n",
    "        else:\n",
    "            pass"
   ]
  },
  {
   "cell_type": "markdown",
   "metadata": {},
   "source": [
    "OK, now we perform all the operations."
   ]
  },
  {
   "cell_type": "code",
   "execution_count": 262,
   "metadata": {},
   "outputs": [],
   "source": [
    "for index, row in movements.iterrows():\n",
    "    operate_crane(row)"
   ]
  },
  {
   "cell_type": "code",
   "execution_count": 268,
   "metadata": {},
   "outputs": [],
   "source": [
    "def print_top(stacks):\n",
    "    top = []\n",
    "    for line in stacks:\n",
    "        top.append(line[0])\n",
    "\n",
    "    return top"
   ]
  },
  {
   "cell_type": "code",
   "execution_count": 269,
   "metadata": {},
   "outputs": [
    {
     "data": {
      "text/plain": [
       "['[L]', '[J]', '[S]', '[V]', '[L]', '[T]', '[W]', '[Q]', '[M]']"
      ]
     },
     "execution_count": 269,
     "metadata": {},
     "output_type": "execute_result"
    }
   ],
   "source": [
    "print_top(list_of_stacks)"
   ]
  },
  {
   "cell_type": "markdown",
   "metadata": {},
   "source": [
    "## Part 2\n",
    "Same exercise, but keeping the order of stuff moved."
   ]
  },
  {
   "cell_type": "code",
   "execution_count": 277,
   "metadata": {},
   "outputs": [],
   "source": [
    "stack_1 = list(stack_matrix[1][stack_matrix[1] != ''])\n",
    "stack_2 = list(stack_matrix[2][stack_matrix[2] != ''])\n",
    "stack_3 = list(stack_matrix[3][stack_matrix[3] != ''])\n",
    "stack_4 = list(stack_matrix[4][stack_matrix[4] != ''])\n",
    "stack_5 = list(stack_matrix[5][stack_matrix[5] != ''])\n",
    "stack_6 = list(stack_matrix[6][stack_matrix[6] != ''])\n",
    "stack_7 = list(stack_matrix[7][stack_matrix[7] != ''])\n",
    "stack_8 = list(stack_matrix[8][stack_matrix[8] != ''])\n",
    "stack_9 = list(stack_matrix[9][stack_matrix[9] != ''])\n",
    "\n",
    "list_of_stacks = [stack_1, stack_2, stack_3, stack_4, stack_5, stack_6, stack_7, stack_8, stack_9]\n",
    "def operate_crane_9001(instruction):\n",
    "    how_many = int(instruction['move'])\n",
    "    where_from = int(instruction['from'])\n",
    "    where_to = int(instruction['to'])\n",
    "\n",
    "    from_which = list_of_stacks[where_from - 1] # output stack_x\n",
    "    to_which = list_of_stacks[where_to - 1]\n",
    "\n",
    "    to_move = []\n",
    "    for i in range(0, how_many):\n",
    "        if len(from_which) > 0:\n",
    "            to_move.append(from_which.pop(0))\n",
    "        else:\n",
    "            pass\n",
    "\n",
    "    for i in range(0, len(to_move)):\n",
    "        to_which.insert(i, to_move[i])\n",
    "\n",
    "for index, row in movements.iterrows():\n",
    "    operate_crane_9001(row)"
   ]
  },
  {
   "cell_type": "code",
   "execution_count": 278,
   "metadata": {},
   "outputs": [
    {
     "data": {
      "text/plain": [
       "['[B]', '[R]', '[Q]', '[W]', '[D]', '[B]', '[B]', '[J]', '[M]']"
      ]
     },
     "execution_count": 278,
     "metadata": {},
     "output_type": "execute_result"
    }
   ],
   "source": [
    "print_top(list_of_stacks)"
   ]
  }
 ],
 "metadata": {
  "kernelspec": {
   "display_name": "Python 3.10.6 64-bit",
   "language": "python",
   "name": "python3"
  },
  "language_info": {
   "codemirror_mode": {
    "name": "ipython",
    "version": 3
   },
   "file_extension": ".py",
   "mimetype": "text/x-python",
   "name": "python",
   "nbconvert_exporter": "python",
   "pygments_lexer": "ipython3",
   "version": "3.10.6"
  },
  "orig_nbformat": 4,
  "vscode": {
   "interpreter": {
    "hash": "916dbcbb3f70747c44a77c7bcd40155683ae19c65e1c03b4aa3499c5328201f1"
   }
  }
 },
 "nbformat": 4,
 "nbformat_minor": 2
}
