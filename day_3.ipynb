{
 "cells": [
  {
   "cell_type": "markdown",
   "metadata": {},
   "source": [
    "## Day 3\n",
    "Url: https://adventofcode.com/2022/day/3\n",
    "\n",
    "Problem: each line of the input (`'./inputs/day3.txt'`) contains the inventory of items in a elf's backpack. The first half of the line is in one compartment of the backpack, the second half is in a second compartment. The elf who packed the items did a mistake and packed one item in both compartments for every elf. \n",
    "\n",
    "We need to find:\n",
    "1) which was the misplaced element for each elf, and\n",
    "2) assign to each misplaced element a score (given by the problem)\n",
    "3) calculate the total score of all the misplaced elements\n",
    "\n",
    "Scoring:\n",
    "a to z: 1 to 26\n",
    "A to Z: 27 to 52\n"
   ]
  },
  {
   "cell_type": "code",
   "execution_count": 1,
   "metadata": {},
   "outputs": [],
   "source": [
    "import pandas as pd\n",
    "import numpy as np\n",
    "import string"
   ]
  },
  {
   "cell_type": "code",
   "execution_count": 2,
   "metadata": {},
   "outputs": [],
   "source": [
    "inventory = pd.read_csv('./inputs/day3.txt', header=None)\n",
    "inventory.columns = ['list_of_items']\n",
    "inventory['misplaced_item'] = None\n",
    "inventory['assigned score'] = 0"
   ]
  },
  {
   "cell_type": "markdown",
   "metadata": {},
   "source": [
    "We write a couple of functions to find and calculate the value of the item:"
   ]
  },
  {
   "cell_type": "code",
   "execution_count": 3,
   "metadata": {},
   "outputs": [],
   "source": [
    "def assign_value_to_item(item):\n",
    "    point_mapping = pd.DataFrame({'letters': list(string.ascii_lowercase + string.ascii_uppercase),\n",
    "              'values' : range(1, 53)})\n",
    "    matching_value = point_mapping.loc[point_mapping['letters'] == item]['values'].values\n",
    "\n",
    "    return matching_value\n",
    "\n",
    "def find_misplaced_item(list_of_items):\n",
    "    number_of_items = len(list_of_items)\n",
    "    break_index = int(number_of_items/2)\n",
    "    in_first_compartment = list_of_items[:break_index]\n",
    "    in_second_compartment = list_of_items[break_index:]\n",
    "    assert(len(in_first_compartment) == len(in_second_compartment))\n",
    "\n",
    "    # use set() to find commonalities:\n",
    "    common_item = list( set(in_first_compartment) & set(in_second_compartment) )\n",
    "    \n",
    "    return common_item[0]\n"
   ]
  },
  {
   "cell_type": "markdown",
   "metadata": {},
   "source": [
    "Now we assign this function column wise:"
   ]
  },
  {
   "cell_type": "code",
   "execution_count": 4,
   "metadata": {},
   "outputs": [],
   "source": [
    "inventory['misplaced_item'] = inventory.apply(lambda row: find_misplaced_item(row['list_of_items']), axis=1)\n",
    "inventory['assigned score'] = inventory.apply(lambda row: assign_value_to_item(row['misplaced_item']), axis=1)\n"
   ]
  },
  {
   "cell_type": "markdown",
   "metadata": {},
   "source": [
    "Now we can finally sum on the `assigned score` column."
   ]
  },
  {
   "cell_type": "code",
   "execution_count": 5,
   "metadata": {},
   "outputs": [
    {
     "name": "stdout",
     "output_type": "stream",
     "text": [
      "The total value of misplaced items is [8072]\n"
     ]
    }
   ],
   "source": [
    "total_value = inventory['assigned score'].sum()\n",
    "print(f'The total value of misplaced items is {total_value}')"
   ]
  },
  {
   "cell_type": "markdown",
   "metadata": {},
   "source": [
    "That is the correct answer!"
   ]
  },
  {
   "cell_type": "markdown",
   "metadata": {},
   "source": [
    "## Part 2\n",
    "These eleves are starting to piss me off, truly. Now the problem is finding the common element in backpacks 3 by 3 (that is, each three lines correspond to the same group of elves, which is showed by the only element they have in common). Find the value of the sum of these badges."
   ]
  },
  {
   "cell_type": "code",
   "execution_count": 6,
   "metadata": {},
   "outputs": [],
   "source": [
    "inventory['group_id'] = 0\n",
    "inventory['group_badge'] = None\n",
    "inventory['assigned_for_badge'] = 0"
   ]
  },
  {
   "cell_type": "code",
   "execution_count": 7,
   "metadata": {},
   "outputs": [
    {
     "name": "stderr",
     "output_type": "stream",
     "text": [
      "/tmp/ipykernel_405484/3590184507.py:5: SettingWithCopyWarning: \n",
      "A value is trying to be set on a copy of a slice from a DataFrame\n",
      "\n",
      "See the caveats in the documentation: https://pandas.pydata.org/pandas-docs/stable/user_guide/indexing.html#returning-a-view-versus-a-copy\n",
      "  inventory['group_id'][i] = count_id\n"
     ]
    }
   ],
   "source": [
    "count_id = 0\n",
    "for i in range(0, len(inventory)):\n",
    "    if not (i % 3):\n",
    "        count_id += 1\n",
    "    inventory['group_id'][i] = count_id\n",
    "    "
   ]
  },
  {
   "cell_type": "code",
   "execution_count": 8,
   "metadata": {},
   "outputs": [],
   "source": [
    "def assign_badge_by_id(group_id):\n",
    "    elves_in_group = inventory[inventory['group_id']==group_id]\n",
    "    element_in_common = set(elves_in_group['list_of_items'].iloc[0]) & \\\n",
    "                        set(elves_in_group['list_of_items'].iloc[1]) & \\\n",
    "                        set(elves_in_group['list_of_items'].iloc[2])\n",
    "    badge = list(element_in_common)[0]\n",
    "    return badge"
   ]
  },
  {
   "cell_type": "code",
   "execution_count": 9,
   "metadata": {},
   "outputs": [],
   "source": [
    "inventory['group_badge'] = inventory.apply(lambda x: assign_badge_by_id(x['group_id']), axis=1)\n",
    "inventory['assigned_for_badge'] = inventory.apply(lambda x: assign_value_to_item(x['group_badge']), axis=1)"
   ]
  },
  {
   "cell_type": "markdown",
   "metadata": {},
   "source": [
    "Finally, the sum of the column `assigned_for_badge` will give us the number we want, but since it sums over all elves, we need to divide the number by 3!"
   ]
  },
  {
   "cell_type": "code",
   "execution_count": 10,
   "metadata": {},
   "outputs": [
    {
     "name": "stdout",
     "output_type": "stream",
     "text": [
      "The total score by group is 2567.\n"
     ]
    }
   ],
   "source": [
    "total_score_for_badges = inventory['assigned_for_badge'].sum()/3\n",
    "print(f'The total score by group is {int(total_score_for_badges)}.')"
   ]
  },
  {
   "cell_type": "markdown",
   "metadata": {},
   "source": [
    "And this is also the correct answer. Quite happy about this, I'm sure there would be better ways to apply these functions to all the columns than looping through it, but for now this will work."
   ]
  }
 ],
 "metadata": {
  "kernelspec": {
   "display_name": "Python 3.10.6 64-bit",
   "language": "python",
   "name": "python3"
  },
  "language_info": {
   "codemirror_mode": {
    "name": "ipython",
    "version": 3
   },
   "file_extension": ".py",
   "mimetype": "text/x-python",
   "name": "python",
   "nbconvert_exporter": "python",
   "pygments_lexer": "ipython3",
   "version": "3.10.6"
  },
  "orig_nbformat": 4,
  "vscode": {
   "interpreter": {
    "hash": "916dbcbb3f70747c44a77c7bcd40155683ae19c65e1c03b4aa3499c5328201f1"
   }
  }
 },
 "nbformat": 4,
 "nbformat_minor": 2
}
