{
 "cells": [
  {
   "cell_type": "markdown",
   "metadata": {},
   "source": [
    "## Day 3\n",
    "Url: https://adventofcode.com/2022/day/3\n",
    "\n",
    "Problem: each line of the input (`'./inputs/day3.txt'`) contains the inventory of items in a elf's backpack. The first half of the line is in one compartment of the backpack, the second half is in a second compartment. The elf who packed the items did a mistake and packed one item in both compartments for every elf. \n",
    "\n",
    "We need to find:\n",
    "1) which was the misplaced element for each elf, and\n",
    "2) assign to each misplaced element a score (given by the problem)\n",
    "3) calculate the total score of all the misplaced elements\n",
    "\n",
    "Scoring:\n",
    "a to z: 1 to 26\n",
    "A to Z: 27 to 52\n"
   ]
  },
  {
   "cell_type": "code",
   "execution_count": 1,
   "metadata": {},
   "outputs": [],
   "source": [
    "import pandas as pd\n",
    "import numpy as np\n",
    "import string"
   ]
  },
  {
   "cell_type": "code",
   "execution_count": 2,
   "metadata": {},
   "outputs": [],
   "source": [
    "inventory = pd.read_csv('./inputs/day3.txt', header=None)\n",
    "inventory.columns = ['list_of_items']\n",
    "inventory['misplaced_item'] = None\n",
    "inventory['assigned score'] = 0"
   ]
  },
  {
   "cell_type": "code",
   "execution_count": 3,
   "metadata": {},
   "outputs": [
    {
     "data": {
      "text/html": [
       "<div>\n",
       "<style scoped>\n",
       "    .dataframe tbody tr th:only-of-type {\n",
       "        vertical-align: middle;\n",
       "    }\n",
       "\n",
       "    .dataframe tbody tr th {\n",
       "        vertical-align: top;\n",
       "    }\n",
       "\n",
       "    .dataframe thead th {\n",
       "        text-align: right;\n",
       "    }\n",
       "</style>\n",
       "<table border=\"1\" class=\"dataframe\">\n",
       "  <thead>\n",
       "    <tr style=\"text-align: right;\">\n",
       "      <th></th>\n",
       "      <th>list_of_items</th>\n",
       "      <th>misplaced_item</th>\n",
       "      <th>assigned score</th>\n",
       "    </tr>\n",
       "  </thead>\n",
       "  <tbody>\n",
       "    <tr>\n",
       "      <th>0</th>\n",
       "      <td>LdHVLDLDdHdtLMhcqCqGWcWg</td>\n",
       "      <td>None</td>\n",
       "      <td>0</td>\n",
       "    </tr>\n",
       "    <tr>\n",
       "      <th>1</th>\n",
       "      <td>ZZQZSZnnJrQrJQJbfzfnWGWPWMcChMMPcqMnhFcF</td>\n",
       "      <td>None</td>\n",
       "      <td>0</td>\n",
       "    </tr>\n",
       "    <tr>\n",
       "      <th>2</th>\n",
       "      <td>ZrzpWzfbpQpWbzvZWZpdtVtDNmRHNVptNDHt</td>\n",
       "      <td>None</td>\n",
       "      <td>0</td>\n",
       "    </tr>\n",
       "    <tr>\n",
       "      <th>3</th>\n",
       "      <td>gzCjffWZCtCfZZVdqVSqJdvJndSt</td>\n",
       "      <td>None</td>\n",
       "      <td>0</td>\n",
       "    </tr>\n",
       "    <tr>\n",
       "      <th>4</th>\n",
       "      <td>hMHLcmGLMLhHmsRMsSvsQSqrsrlJTTdV</td>\n",
       "      <td>None</td>\n",
       "      <td>0</td>\n",
       "    </tr>\n",
       "    <tr>\n",
       "      <th>...</th>\n",
       "      <td>...</td>\n",
       "      <td>...</td>\n",
       "      <td>...</td>\n",
       "    </tr>\n",
       "    <tr>\n",
       "      <th>295</th>\n",
       "      <td>DLWRLjRrmNPQjZZlQPsFGFggVcWcFddggdsg</td>\n",
       "      <td>None</td>\n",
       "      <td>0</td>\n",
       "    </tr>\n",
       "    <tr>\n",
       "      <th>296</th>\n",
       "      <td>rjrZPwwDRlLLBjQlRRlPDpmbqzpqnnCSCfTMwMqSvC</td>\n",
       "      <td>None</td>\n",
       "      <td>0</td>\n",
       "    </tr>\n",
       "    <tr>\n",
       "      <th>297</th>\n",
       "      <td>FmcGcjLRPjQwQjMQrwHQ</td>\n",
       "      <td>None</td>\n",
       "      <td>0</td>\n",
       "    </tr>\n",
       "    <tr>\n",
       "      <th>298</th>\n",
       "      <td>btJzJbVNdBJJtzTdGBbdBztGrQhhQWhMwHrhrHSHgHQfhMVS</td>\n",
       "      <td>None</td>\n",
       "      <td>0</td>\n",
       "    </tr>\n",
       "    <tr>\n",
       "      <th>299</th>\n",
       "      <td>JJDpdDTtCtzNptnTJBznnvLCCvcFqsRqFcvZclLGRR</td>\n",
       "      <td>None</td>\n",
       "      <td>0</td>\n",
       "    </tr>\n",
       "  </tbody>\n",
       "</table>\n",
       "<p>300 rows × 3 columns</p>\n",
       "</div>"
      ],
      "text/plain": [
       "                                        list_of_items misplaced_item  \\\n",
       "0                            LdHVLDLDdHdtLMhcqCqGWcWg           None   \n",
       "1            ZZQZSZnnJrQrJQJbfzfnWGWPWMcChMMPcqMnhFcF           None   \n",
       "2                ZrzpWzfbpQpWbzvZWZpdtVtDNmRHNVptNDHt           None   \n",
       "3                        gzCjffWZCtCfZZVdqVSqJdvJndSt           None   \n",
       "4                    hMHLcmGLMLhHmsRMsSvsQSqrsrlJTTdV           None   \n",
       "..                                                ...            ...   \n",
       "295              DLWRLjRrmNPQjZZlQPsFGFggVcWcFddggdsg           None   \n",
       "296        rjrZPwwDRlLLBjQlRRlPDpmbqzpqnnCSCfTMwMqSvC           None   \n",
       "297                              FmcGcjLRPjQwQjMQrwHQ           None   \n",
       "298  btJzJbVNdBJJtzTdGBbdBztGrQhhQWhMwHrhrHSHgHQfhMVS           None   \n",
       "299        JJDpdDTtCtzNptnTJBznnvLCCvcFqsRqFcvZclLGRR           None   \n",
       "\n",
       "     assigned score  \n",
       "0                 0  \n",
       "1                 0  \n",
       "2                 0  \n",
       "3                 0  \n",
       "4                 0  \n",
       "..              ...  \n",
       "295               0  \n",
       "296               0  \n",
       "297               0  \n",
       "298               0  \n",
       "299               0  \n",
       "\n",
       "[300 rows x 3 columns]"
      ]
     },
     "execution_count": 3,
     "metadata": {},
     "output_type": "execute_result"
    }
   ],
   "source": [
    "inventory"
   ]
  },
  {
   "cell_type": "markdown",
   "metadata": {},
   "source": [
    "We write a couple of functions to find and calculate the value of the item:"
   ]
  },
  {
   "cell_type": "code",
   "execution_count": 63,
   "metadata": {},
   "outputs": [],
   "source": [
    "def assign_value_to_item(item):\n",
    "    point_mapping = pd.DataFrame({'letters': list(string.ascii_lowercase + string.ascii_uppercase),\n",
    "              'values' : range(1, 53)})\n",
    "    matching_value = point_mapping.loc[point_mapping['letters'] == item]['values'].values\n",
    "\n",
    "    return matching_value\n",
    "\n",
    "def find_misplaced_item(list_of_items):\n",
    "    number_of_items = len(list_of_items)\n",
    "    break_index = int(number_of_items/2)\n",
    "    in_first_compartment = list_of_items[:break_index]\n",
    "    in_second_compartment = list_of_items[break_index:]\n",
    "    assert(len(in_first_compartment) == len(in_second_compartment))\n",
    "\n",
    "    # use set() to find commonalities:\n",
    "    common_item = list( set(in_first_compartment) & set(in_second_compartment) )\n",
    "    \n",
    "    return common_item[0]\n"
   ]
  },
  {
   "cell_type": "code",
   "execution_count": 58,
   "metadata": {},
   "outputs": [
    {
     "data": {
      "text/plain": [
       "'LdHVLDLDdHdt'"
      ]
     },
     "execution_count": 58,
     "metadata": {},
     "output_type": "execute_result"
    }
   ],
   "source": [
    "\n",
    "test = inventory['list_of_items'][0]\n",
    "length = int(len(test)/2)\n",
    "test[:length]\n"
   ]
  },
  {
   "cell_type": "markdown",
   "metadata": {},
   "source": [
    "Now we assign this function column wise:"
   ]
  },
  {
   "cell_type": "code",
   "execution_count": 66,
   "metadata": {},
   "outputs": [
    {
     "name": "stderr",
     "output_type": "stream",
     "text": [
      "/tmp/ipykernel_400734/1939551171.py:2: SettingWithCopyWarning: \n",
      "A value is trying to be set on a copy of a slice from a DataFrame\n",
      "\n",
      "See the caveats in the documentation: https://pandas.pydata.org/pandas-docs/stable/user_guide/indexing.html#returning-a-view-versus-a-copy\n",
      "  inventory['misplaced_item'][i] = find_misplaced_item(inventory['list_of_items'][i])\n",
      "/tmp/ipykernel_400734/1939551171.py:3: SettingWithCopyWarning: \n",
      "A value is trying to be set on a copy of a slice from a DataFrame\n",
      "\n",
      "See the caveats in the documentation: https://pandas.pydata.org/pandas-docs/stable/user_guide/indexing.html#returning-a-view-versus-a-copy\n",
      "  inventory['assigned score'][i] = assign_value_to_item(inventory['misplaced_item'][i])\n"
     ]
    }
   ],
   "source": [
    "for i in range(0, len(inventory)):\n",
    "    inventory['misplaced_item'][i] = find_misplaced_item(inventory['list_of_items'][i])\n",
    "    inventory['assigned score'][i] = assign_value_to_item(inventory['misplaced_item'][i])\n",
    "    "
   ]
  },
  {
   "cell_type": "code",
   "execution_count": 67,
   "metadata": {},
   "outputs": [
    {
     "data": {
      "text/html": [
       "<div>\n",
       "<style scoped>\n",
       "    .dataframe tbody tr th:only-of-type {\n",
       "        vertical-align: middle;\n",
       "    }\n",
       "\n",
       "    .dataframe tbody tr th {\n",
       "        vertical-align: top;\n",
       "    }\n",
       "\n",
       "    .dataframe thead th {\n",
       "        text-align: right;\n",
       "    }\n",
       "</style>\n",
       "<table border=\"1\" class=\"dataframe\">\n",
       "  <thead>\n",
       "    <tr style=\"text-align: right;\">\n",
       "      <th></th>\n",
       "      <th>list_of_items</th>\n",
       "      <th>misplaced_item</th>\n",
       "      <th>assigned score</th>\n",
       "    </tr>\n",
       "  </thead>\n",
       "  <tbody>\n",
       "    <tr>\n",
       "      <th>0</th>\n",
       "      <td>LdHVLDLDdHdtLMhcqCqGWcWg</td>\n",
       "      <td>L</td>\n",
       "      <td>38</td>\n",
       "    </tr>\n",
       "    <tr>\n",
       "      <th>1</th>\n",
       "      <td>ZZQZSZnnJrQrJQJbfzfnWGWPWMcChMMPcqMnhFcF</td>\n",
       "      <td>n</td>\n",
       "      <td>14</td>\n",
       "    </tr>\n",
       "    <tr>\n",
       "      <th>2</th>\n",
       "      <td>ZrzpWzfbpQpWbzvZWZpdtVtDNmRHNVptNDHt</td>\n",
       "      <td>p</td>\n",
       "      <td>16</td>\n",
       "    </tr>\n",
       "    <tr>\n",
       "      <th>3</th>\n",
       "      <td>gzCjffWZCtCfZZVdqVSqJdvJndSt</td>\n",
       "      <td>t</td>\n",
       "      <td>20</td>\n",
       "    </tr>\n",
       "    <tr>\n",
       "      <th>4</th>\n",
       "      <td>hMHLcmGLMLhHmsRMsSvsQSqrsrlJTTdV</td>\n",
       "      <td>s</td>\n",
       "      <td>19</td>\n",
       "    </tr>\n",
       "    <tr>\n",
       "      <th>...</th>\n",
       "      <td>...</td>\n",
       "      <td>...</td>\n",
       "      <td>...</td>\n",
       "    </tr>\n",
       "    <tr>\n",
       "      <th>295</th>\n",
       "      <td>DLWRLjRrmNPQjZZlQPsFGFggVcWcFddggdsg</td>\n",
       "      <td>W</td>\n",
       "      <td>49</td>\n",
       "    </tr>\n",
       "    <tr>\n",
       "      <th>296</th>\n",
       "      <td>rjrZPwwDRlLLBjQlRRlPDpmbqzpqnnCSCfTMwMqSvC</td>\n",
       "      <td>w</td>\n",
       "      <td>23</td>\n",
       "    </tr>\n",
       "    <tr>\n",
       "      <th>297</th>\n",
       "      <td>FmcGcjLRPjQwQjMQrwHQ</td>\n",
       "      <td>j</td>\n",
       "      <td>10</td>\n",
       "    </tr>\n",
       "    <tr>\n",
       "      <th>298</th>\n",
       "      <td>btJzJbVNdBJJtzTdGBbdBztGrQhhQWhMwHrhrHSHgHQfhMVS</td>\n",
       "      <td>V</td>\n",
       "      <td>48</td>\n",
       "    </tr>\n",
       "    <tr>\n",
       "      <th>299</th>\n",
       "      <td>JJDpdDTtCtzNptnTJBznnvLCCvcFqsRqFcvZclLGRR</td>\n",
       "      <td>C</td>\n",
       "      <td>29</td>\n",
       "    </tr>\n",
       "  </tbody>\n",
       "</table>\n",
       "<p>300 rows × 3 columns</p>\n",
       "</div>"
      ],
      "text/plain": [
       "                                        list_of_items misplaced_item  \\\n",
       "0                            LdHVLDLDdHdtLMhcqCqGWcWg              L   \n",
       "1            ZZQZSZnnJrQrJQJbfzfnWGWPWMcChMMPcqMnhFcF              n   \n",
       "2                ZrzpWzfbpQpWbzvZWZpdtVtDNmRHNVptNDHt              p   \n",
       "3                        gzCjffWZCtCfZZVdqVSqJdvJndSt              t   \n",
       "4                    hMHLcmGLMLhHmsRMsSvsQSqrsrlJTTdV              s   \n",
       "..                                                ...            ...   \n",
       "295              DLWRLjRrmNPQjZZlQPsFGFggVcWcFddggdsg              W   \n",
       "296        rjrZPwwDRlLLBjQlRRlPDpmbqzpqnnCSCfTMwMqSvC              w   \n",
       "297                              FmcGcjLRPjQwQjMQrwHQ              j   \n",
       "298  btJzJbVNdBJJtzTdGBbdBztGrQhhQWhMwHrhrHSHgHQfhMVS              V   \n",
       "299        JJDpdDTtCtzNptnTJBznnvLCCvcFqsRqFcvZclLGRR              C   \n",
       "\n",
       "     assigned score  \n",
       "0                38  \n",
       "1                14  \n",
       "2                16  \n",
       "3                20  \n",
       "4                19  \n",
       "..              ...  \n",
       "295              49  \n",
       "296              23  \n",
       "297              10  \n",
       "298              48  \n",
       "299              29  \n",
       "\n",
       "[300 rows x 3 columns]"
      ]
     },
     "execution_count": 67,
     "metadata": {},
     "output_type": "execute_result"
    }
   ],
   "source": [
    "inventory"
   ]
  },
  {
   "cell_type": "code",
   "execution_count": null,
   "metadata": {},
   "outputs": [],
   "source": []
  }
 ],
 "metadata": {
  "kernelspec": {
   "display_name": "Python 3.10.6 64-bit",
   "language": "python",
   "name": "python3"
  },
  "language_info": {
   "codemirror_mode": {
    "name": "ipython",
    "version": 3
   },
   "file_extension": ".py",
   "mimetype": "text/x-python",
   "name": "python",
   "nbconvert_exporter": "python",
   "pygments_lexer": "ipython3",
   "version": "3.10.6"
  },
  "orig_nbformat": 4,
  "vscode": {
   "interpreter": {
    "hash": "916dbcbb3f70747c44a77c7bcd40155683ae19c65e1c03b4aa3499c5328201f1"
   }
  }
 },
 "nbformat": 4,
 "nbformat_minor": 2
}
