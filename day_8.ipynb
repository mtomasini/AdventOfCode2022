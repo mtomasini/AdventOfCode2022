{
 "cells": [
  {
   "cell_type": "markdown",
   "metadata": {},
   "source": [
    "# Day 8\n",
    "\n",
    "Today we need to evaluate whether some trees in a grid are visible or not. To be visible, they have to be the highest number between that tree and at least one edge. Trees on the edge are automatically visible."
   ]
  },
  {
   "cell_type": "code",
   "execution_count": 45,
   "metadata": {},
   "outputs": [],
   "source": [
    "import numpy as np\n",
    "import pandas as pd"
   ]
  },
  {
   "cell_type": "code",
   "execution_count": 196,
   "metadata": {},
   "outputs": [],
   "source": [
    "size = 99\n",
    "grid = np.zeros(shape=(size,size))\n",
    "with open(\"./inputs/day8.txt\") as file:\n",
    "    j = 0\n",
    "    for line in file.readlines():\n",
    "        for i in range(0, size):\n",
    "            grid[j][i] = line[i]\n",
    "        j += 1\n",
    "        \n",
    "grid = pd.DataFrame(grid)"
   ]
  },
  {
   "cell_type": "code",
   "execution_count": 197,
   "metadata": {},
   "outputs": [],
   "source": [
    "def is_visible(row, column, grid):\n",
    "    tree = grid.loc[row,column]\n",
    "    full_row = grid.loc[row,:]\n",
    "    full_col = grid.loc[:,column]\n",
    "    \n",
    "    left = sum(full_row[:column] >= tree)\n",
    "    if left == 0:\n",
    "        return True\n",
    "    right = sum(full_row[column+1:] >= tree)\n",
    "    if right == 0:\n",
    "        return True\n",
    "    up = sum(full_col[:row] >= tree)\n",
    "    if up == 0:\n",
    "        return True\n",
    "    down = sum(full_col[row+1:] >= tree)\n",
    "    if down == 0:\n",
    "        return True\n",
    "    else:\n",
    "        return False\n",
    "    "
   ]
  },
  {
   "cell_type": "code",
   "execution_count": 198,
   "metadata": {},
   "outputs": [
    {
     "data": {
      "text/plain": [
       "1782"
      ]
     },
     "execution_count": 198,
     "metadata": {},
     "output_type": "execute_result"
    }
   ],
   "source": [
    "visible_trees = 99 + 2*98 + 97\n",
    "for i in range(1,size-1):\n",
    "    for j in range(1,size-1):\n",
    "        if is_visible(i, j, grid):\n",
    "            visible_trees += 1\n",
    "\n",
    "visible_trees"
   ]
  },
  {
   "cell_type": "markdown",
   "metadata": {},
   "source": [
    "That was (finally) correct."
   ]
  },
  {
   "cell_type": "markdown",
   "metadata": {},
   "source": []
  }
 ],
 "metadata": {
  "kernelspec": {
   "display_name": "Python 3.10.6 64-bit",
   "language": "python",
   "name": "python3"
  },
  "language_info": {
   "codemirror_mode": {
    "name": "ipython",
    "version": 3
   },
   "file_extension": ".py",
   "mimetype": "text/x-python",
   "name": "python",
   "nbconvert_exporter": "python",
   "pygments_lexer": "ipython3",
   "version": "3.10.6"
  },
  "orig_nbformat": 4,
  "vscode": {
   "interpreter": {
    "hash": "916dbcbb3f70747c44a77c7bcd40155683ae19c65e1c03b4aa3499c5328201f1"
   }
  }
 },
 "nbformat": 4,
 "nbformat_minor": 2
}
