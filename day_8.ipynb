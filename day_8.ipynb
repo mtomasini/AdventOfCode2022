{
 "cells": [
  {
   "cell_type": "markdown",
   "metadata": {},
   "source": [
    "# Day 8\n",
    "\n",
    "Today we need to evaluate whether some trees in a grid are visible or not. To be visible, they have to be the highest number between that tree and at least one edge. Trees on the edge are automatically visible."
   ]
  },
  {
   "cell_type": "code",
   "execution_count": 282,
   "metadata": {},
   "outputs": [],
   "source": [
    "import numpy as np\n",
    "import pandas as pd"
   ]
  },
  {
   "cell_type": "code",
   "execution_count": 283,
   "metadata": {},
   "outputs": [],
   "source": [
    "size = 99\n",
    "grid = np.zeros(shape=(size,size))\n",
    "with open(\"./inputs/day8.txt\") as file:\n",
    "    j = 0\n",
    "    for line in file.readlines():\n",
    "        for i in range(0, size):\n",
    "            grid[j][i] = line[i]\n",
    "        j += 1\n",
    "        \n",
    "grid = pd.DataFrame(grid)"
   ]
  },
  {
   "cell_type": "code",
   "execution_count": 197,
   "metadata": {},
   "outputs": [],
   "source": [
    "def is_visible(row, column, grid):\n",
    "    tree = grid.loc[row,column]\n",
    "    full_row = grid.loc[row,:]\n",
    "    full_col = grid.loc[:,column]\n",
    "    \n",
    "    left = sum(full_row[:column] >= tree)\n",
    "    if left == 0:\n",
    "        return True\n",
    "    right = sum(full_row[column+1:] >= tree)\n",
    "    if right == 0:\n",
    "        return True\n",
    "    up = sum(full_col[:row] >= tree)\n",
    "    if up == 0:\n",
    "        return True\n",
    "    down = sum(full_col[row+1:] >= tree)\n",
    "    if down == 0:\n",
    "        return True\n",
    "    else:\n",
    "        return False\n",
    "    "
   ]
  },
  {
   "cell_type": "code",
   "execution_count": 312,
   "metadata": {},
   "outputs": [
    {
     "data": {
      "text/plain": [
       "1782"
      ]
     },
     "execution_count": 312,
     "metadata": {},
     "output_type": "execute_result"
    }
   ],
   "source": [
    "visible_trees = 99 + 2*98 + 97\n",
    "for i in range(1,size-1):\n",
    "    for j in range(1,size-1):\n",
    "        if is_visible(i, j, grid):\n",
    "            visible_trees += 1\n",
    "\n",
    "visible_trees"
   ]
  },
  {
   "cell_type": "markdown",
   "metadata": {},
   "source": [
    "That was (finally) correct."
   ]
  },
  {
   "cell_type": "markdown",
   "metadata": {},
   "source": [
    "## Part 2\n",
    "In part two we need to calculate the scenic score. It consists in multiplying the number of trees of visibility (number of trees up to the next visible tree) in each direction.\n",
    "\n",
    "We probably need to make use of the results of part 1?"
   ]
  },
  {
   "cell_type": "code",
   "execution_count": 308,
   "metadata": {},
   "outputs": [],
   "source": [
    "def find_view(reference, vector, direction):\n",
    "    if direction == -1:\n",
    "        vector = vector.reindex(index=vector.index[::-1])\n",
    "        vector.reset_index(inplace=True, drop=True)\n",
    "    else:\n",
    "        vector.reset_index(inplace=True, drop=True)\n",
    "    \n",
    "    larger = vector.index[vector >= reference]\n",
    "    if len(larger) == 0:\n",
    "        coeff = len(vector)\n",
    "    else:\n",
    "        coeff = min(vector.index[vector >= reference]) + 1\n",
    "    return coeff\n",
    "\n",
    "def scenic_score(row, column, grid):\n",
    "    size = len(grid) # for square grids\n",
    "\n",
    "    tree = grid.loc[row,column]\n",
    "    full_row = grid.loc[row,:]\n",
    "    full_col = grid.loc[:,column]\n",
    "    \n",
    "    left = full_row[:column]\n",
    "    right = full_row[column+1:]\n",
    "    up = full_col[:row]\n",
    "    down = full_col[row+1:]\n",
    "\n",
    "    coeff_left = find_view(tree, left, -1)\n",
    "    coeff_right = find_view(tree, right, 1)\n",
    "    coeff_up = find_view(tree, up, -1)\n",
    "    coeff_down = find_view(tree, down, 1)\n",
    "    return coeff_up * coeff_down * coeff_left * coeff_right\n",
    "    "
   ]
  },
  {
   "cell_type": "code",
   "execution_count": 311,
   "metadata": {},
   "outputs": [
    {
     "name": "stdout",
     "output_type": "stream",
     "text": [
      "The highest scenic score is 474606.\n"
     ]
    }
   ],
   "source": [
    "scores = []\n",
    "for i in range(1, size-1):\n",
    "    for j in range(1, size-1):\n",
    "        scores.append(scenic_score(i, j, grid))\n",
    "\n",
    "print(f'The highest scenic score is {max(scores)}.')"
   ]
  },
  {
   "cell_type": "markdown",
   "metadata": {},
   "source": [
    "And this problem is also wrapped. Good effort."
   ]
  }
 ],
 "metadata": {
  "kernelspec": {
   "display_name": "Python 3.10.6 64-bit",
   "language": "python",
   "name": "python3"
  },
  "language_info": {
   "codemirror_mode": {
    "name": "ipython",
    "version": 3
   },
   "file_extension": ".py",
   "mimetype": "text/x-python",
   "name": "python",
   "nbconvert_exporter": "python",
   "pygments_lexer": "ipython3",
   "version": "3.10.6"
  },
  "orig_nbformat": 4,
  "vscode": {
   "interpreter": {
    "hash": "916dbcbb3f70747c44a77c7bcd40155683ae19c65e1c03b4aa3499c5328201f1"
   }
  }
 },
 "nbformat": 4,
 "nbformat_minor": 2
}
