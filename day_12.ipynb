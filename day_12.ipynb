{
 "cells": [
  {
   "attachments": {},
   "cell_type": "markdown",
   "metadata": {},
   "source": [
    "# Day 12\n",
    "While I abandoned Advent of Code after the hateful Sunday I had on day 11, the exercise on day 12 could and probably will help me with a problem I want to solve for my work, so I'm back to solve it. I took inspiration from another solution."
   ]
  },
  {
   "cell_type": "code",
   "execution_count": 4,
   "metadata": {},
   "outputs": [],
   "source": [
    "import numpy as np"
   ]
  },
  {
   "cell_type": "code",
   "execution_count": 12,
   "metadata": {},
   "outputs": [],
   "source": [
    "elevation_map = []\n",
    "with open('./inputs/day12.txt') as file:\n",
    "    for y, line in enumerate(file):\n",
    "        elevation_map.append([ord(x) - ord('a') for x in line.strip()])\n",
    "        if 'S' in line:\n",
    "            x = line.index('S')\n",
    "            start_loc = (y, x)\n",
    "        if 'E' in line:\n",
    "            x = line.index('E')\n",
    "            end_loc = (y, x)\n",
    "\n",
    "elevation_map = np.array(elevation_map)\n",
    "\n",
    "elevation_map[start_loc] = 0\n",
    "elevation_map[end_loc] = 25\n"
   ]
  },
  {
   "cell_type": "code",
   "execution_count": 23,
   "metadata": {},
   "outputs": [],
   "source": [
    "def path_search(start, end):\n",
    "    # here we save the locations to be evaluated, and the distance from the starting point.\n",
    "    to_evaluate = [(start, 0)]\n",
    "    # here we store the locations that have been visited already\n",
    "    has_been_seen = set([start])\n",
    "\n",
    "    relative_neighbors = [(-1, 0), (1, 0), (0, -1), (0, 1)]\n",
    "\n",
    "    current_location = start\n",
    "\n",
    "    while current_location != end:\n",
    "        current_location, distance = to_evaluate.pop(0)\n",
    "\n",
    "        for neighbor in relative_neighbors:\n",
    "            new_location = (current_location[0] + neighbor[0], current_location[1] + neighbor[1])\n",
    "\n",
    "            if new_location[0] < 0 or new_location[0] >= elevation_map.shape[0]:\n",
    "                continue\n",
    "            if new_location[1] < 0 or new_location[1] >= elevation_map.shape[1]:\n",
    "                continue\n",
    "\n",
    "            if new_location in has_been_seen:\n",
    "                continue\n",
    "\n",
    "            if not elevation_map[new_location] - elevation_map[current_location] <= 1:\n",
    "                continue\n",
    "\n",
    "            to_evaluate.append((new_location, distance + 1))\n",
    "            has_been_seen.add(new_location)\n",
    "\n",
    "    return distance"
   ]
  },
  {
   "cell_type": "code",
   "execution_count": 24,
   "metadata": {},
   "outputs": [
    {
     "data": {
      "text/plain": [
       "462"
      ]
     },
     "execution_count": 24,
     "metadata": {},
     "output_type": "execute_result"
    }
   ],
   "source": [
    "path_search(start_loc, end_loc)"
   ]
  },
  {
   "attachments": {},
   "cell_type": "markdown",
   "metadata": {},
   "source": [
    "This works! Now for the second part, we are asked to find the shortest path between any `a` on the map and `E`. This is equivalent to finding the opposite route to the first `a`. "
   ]
  },
  {
   "cell_type": "code",
   "execution_count": 27,
   "metadata": {},
   "outputs": [],
   "source": [
    "def inverse_path_search(start, elevation):\n",
    "    # here we save the locations to be evaluated, and the distance from the starting point.\n",
    "    to_evaluate = [(start, 0)]\n",
    "    # here we store the locations that have been visited already\n",
    "    has_been_seen = set([start])\n",
    "\n",
    "    relative_neighbors = [(-1, 0), (1, 0), (0, -1), (0, 1)]\n",
    "\n",
    "    current_location = start\n",
    "\n",
    "    while elevation_map[current_location] != 0:\n",
    "        current_location, distance = to_evaluate.pop(0)\n",
    "\n",
    "        for neighbor in relative_neighbors:\n",
    "            new_location = (current_location[0] + neighbor[0], current_location[1] + neighbor[1])\n",
    "\n",
    "            if new_location[0] < 0 or new_location[0] >= elevation_map.shape[0]:\n",
    "                continue\n",
    "            if new_location[1] < 0 or new_location[1] >= elevation_map.shape[1]:\n",
    "                continue\n",
    "\n",
    "            if new_location in has_been_seen:\n",
    "                continue\n",
    "\n",
    "            if not elevation_map[new_location] - elevation_map[current_location] >= -1:\n",
    "                continue\n",
    "\n",
    "            to_evaluate.append((new_location, distance + 1))\n",
    "            has_been_seen.add(new_location)\n",
    "\n",
    "    return distance"
   ]
  },
  {
   "cell_type": "code",
   "execution_count": 28,
   "metadata": {},
   "outputs": [
    {
     "data": {
      "text/plain": [
       "451"
      ]
     },
     "execution_count": 28,
     "metadata": {},
     "output_type": "execute_result"
    }
   ],
   "source": [
    "inverse_path_search(end_loc, 0)"
   ]
  },
  {
   "cell_type": "code",
   "execution_count": null,
   "metadata": {},
   "outputs": [],
   "source": []
  }
 ],
 "metadata": {
  "kernelspec": {
   "display_name": "Python 3.10.6 64-bit",
   "language": "python",
   "name": "python3"
  },
  "language_info": {
   "codemirror_mode": {
    "name": "ipython",
    "version": 3
   },
   "file_extension": ".py",
   "mimetype": "text/x-python",
   "name": "python",
   "nbconvert_exporter": "python",
   "pygments_lexer": "ipython3",
   "version": "3.10.6"
  },
  "orig_nbformat": 4,
  "vscode": {
   "interpreter": {
    "hash": "916dbcbb3f70747c44a77c7bcd40155683ae19c65e1c03b4aa3499c5328201f1"
   }
  }
 },
 "nbformat": 4,
 "nbformat_minor": 2
}
